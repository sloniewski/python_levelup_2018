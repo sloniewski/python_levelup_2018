{
 "cells": [
  {
   "cell_type": "markdown",
   "metadata": {
    "slideshow": {
     "slide_type": "slide"
    }
   },
   "source": [
    "# Pomaluj mój świat\n",
    "## Dekoratory\n",
    "\n",
    "### Marcin Jaroszewski\n",
    "### 22.III.2018, Python Level UP"
   ]
  },
  {
   "cell_type": "markdown",
   "metadata": {
    "slideshow": {
     "slide_type": "subslide"
    }
   },
   "source": [
    "![Logo kursu Python Level Up](https://raw.githubusercontent.com/daftcode/python_levelup_2018/master/logo.png)"
   ]
  },
  {
   "cell_type": "markdown",
   "metadata": {
    "slideshow": {
     "slide_type": "subslide"
    }
   },
   "source": [
    "![Plan zajęć](https://raw.githubusercontent.com/daftcode/python_levelup_2018/master/plan_zajec.png)"
   ]
  },
  {
   "cell_type": "markdown",
   "metadata": {
    "slideshow": {
     "slide_type": "slide"
    }
   },
   "source": [
    "# Co to dekorator?"
   ]
  },
  {
   "cell_type": "markdown",
   "metadata": {
    "slideshow": {
     "slide_type": "subslide"
    }
   },
   "source": [
    "Dekorator to fragment kodu \"opakowujący\" inny fragment kodu."
   ]
  },
  {
   "cell_type": "markdown",
   "metadata": {
    "slideshow": {
     "slide_type": "subslide"
    }
   },
   "source": [
    "Kod w \"opakowaniu\" może być wykonany względem kodu opakowanego:\n",
    "* przed\n",
    "* po\n",
    "* zamiast"
   ]
  },
  {
   "cell_type": "markdown",
   "metadata": {
    "slideshow": {
     "slide_type": "subslide"
    }
   },
   "source": [
    "Dodatkowo kod \"opakowujący\" może dowolnie zmienić kod \"opakowany\"."
   ]
  },
  {
   "cell_type": "markdown",
   "metadata": {
    "slideshow": {
     "slide_type": "subslide"
    }
   },
   "source": [
    "Akt \"opakowywania\" dzieje się w momencie importowania modułu zwaierającego \"opakowawywany\" fragment kodu. Czyli w runtime. Ma to swoje konsekwencje, o których trzeba pamiętać (diabeł tkwi w szczegółach)."
   ]
  },
  {
   "cell_type": "markdown",
   "metadata": {
    "slideshow": {
     "slide_type": "slide"
    }
   },
   "source": [
    "# Do czego są wykorzystywane dekoratory"
   ]
  },
  {
   "cell_type": "markdown",
   "metadata": {
    "slideshow": {
     "slide_type": "subslide"
    }
   },
   "source": [
    "* łatwego i czystego rozszerzania kodu\n",
    "* tworzenia cache\n",
    "* mechanizmy nieobecne bezpośrednio w python (frameworki)"
   ]
  },
  {
   "cell_type": "markdown",
   "metadata": {
    "slideshow": {
     "slide_type": "slide"
    }
   },
   "source": [
    "# Co może być udekorowane"
   ]
  },
  {
   "cell_type": "markdown",
   "metadata": {
    "slideshow": {
     "slide_type": "subslide"
    }
   },
   "source": [
    "Funkcje - względnie łatwe."
   ]
  },
  {
   "cell_type": "markdown",
   "metadata": {
    "slideshow": {
     "slide_type": "subslide"
    }
   },
   "source": [
    "Klasy - w zależności od sposobów użycia może być więcej lub mniej pracy. Moim zdaniem o rząd wielkości trudniejsze od dekoratorów funkcji."
   ]
  },
  {
   "cell_type": "markdown",
   "metadata": {
    "slideshow": {
     "slide_type": "slide"
    }
   },
   "source": [
    "# Czym można dekorować"
   ]
  },
  {
   "cell_type": "markdown",
   "metadata": {
    "slideshow": {
     "slide_type": "subslide"
    }
   },
   "source": [
    "Obiektami \"callable\" czyli:\n",
    "* funkcjami\n",
    "* klasami z metodą `__call__`"
   ]
  },
  {
   "cell_type": "markdown",
   "metadata": {
    "slideshow": {
     "slide_type": "subslide"
    }
   },
   "source": [
    "Jak zwykle funkcje sa łatwe do opanowania. Klasy ciągną za sobą bagaż związany z dziedziczeniem i instancjonowaniem, co sprawia, że są trudniejsze."
   ]
  },
  {
   "cell_type": "markdown",
   "metadata": {
    "slideshow": {
     "slide_type": "slide"
    }
   },
   "source": [
    "# Składnia"
   ]
  },
  {
   "cell_type": "markdown",
   "metadata": {
    "slideshow": {
     "slide_type": "subslide"
    }
   },
   "source": [
    "### Szkielet\n",
    "```python\n",
    "def nazwa_dekoratora(funkcja_opakowywana):\n",
    "    #ciało dekoratora\n",
    "    \n",
    "@nazwa_dekoratora\n",
    "def zwykla_funkcja():\n",
    "    # ciało zwykłej funkcji\n",
    "    \n",
    "# użycie\n",
    "zwykla_funkcja()\n",
    "```"
   ]
  },
  {
   "cell_type": "markdown",
   "metadata": {
    "slideshow": {
     "slide_type": "subslide"
    }
   },
   "source": [
    "### Wyjaśnienie szkieletu\n",
    "```python\n",
    "def nazwa_dekoratora(funkcja_opakowywana):\n",
    "    #ciało dekoratora\n",
    "    \n",
    "def zwykla_funkcja():\n",
    "    # ciało zwykłej funkcji\n",
    "    \n",
    "# mniej więcej to znaczy @nazwa_dekoratora\n",
    "zwykla_funkcja = nazwa_dekoratora(zwykla_funkcja)\n",
    "\n",
    "# użycie\n",
    "zwykla_funkcja()\n",
    "```"
   ]
  },
  {
   "cell_type": "markdown",
   "metadata": {
    "slideshow": {
     "slide_type": "slide"
    }
   },
   "source": [
    "# Wykonanie kodu zamiast udekorowanej funkcji"
   ]
  },
  {
   "cell_type": "code",
   "execution_count": 49,
   "metadata": {
    "slideshow": {
     "slide_type": "subslide"
    }
   },
   "outputs": [],
   "source": [
    "def censor(singer):\n",
    "    print('Nie pozwalam wykonać: {}'.format(singer.__name__))"
   ]
  },
  {
   "cell_type": "code",
   "execution_count": 50,
   "metadata": {
    "slideshow": {
     "slide_type": "subslide"
    }
   },
   "outputs": [
    {
     "name": "stdout",
     "output_type": "stream",
     "text": [
      "Nie pozwalam wykonać: play_music\n"
     ]
    }
   ],
   "source": [
    "@censor\n",
    "def play_music():\n",
    "    print('Gra muzyka')"
   ]
  },
  {
   "cell_type": "code",
   "execution_count": 51,
   "metadata": {
    "slideshow": {
     "slide_type": "subslide"
    }
   },
   "outputs": [
    {
     "ename": "TypeError",
     "evalue": "'NoneType' object is not callable",
     "output_type": "error",
     "traceback": [
      "\u001b[0;31m---------------------------------------------------------------------------\u001b[0m",
      "\u001b[0;31mTypeError\u001b[0m                                 Traceback (most recent call last)",
      "\u001b[0;32m<ipython-input-51-f03034888486>\u001b[0m in \u001b[0;36m<module>\u001b[0;34m()\u001b[0m\n\u001b[0;32m----> 1\u001b[0;31m \u001b[0mplay_music\u001b[0m\u001b[0;34m(\u001b[0m\u001b[0;34m)\u001b[0m\u001b[0;34m\u001b[0m\u001b[0m\n\u001b[0m",
      "\u001b[0;31mTypeError\u001b[0m: 'NoneType' object is not callable"
     ]
    }
   ],
   "source": [
    "play_music()"
   ]
  },
  {
   "cell_type": "markdown",
   "metadata": {
    "slideshow": {
     "slide_type": "subslide"
    }
   },
   "source": [
    "No i dramat - nie działa."
   ]
  },
  {
   "cell_type": "markdown",
   "metadata": {
    "slideshow": {
     "slide_type": "subslide"
    }
   },
   "source": [
    "Ale cos jednak zadziałało - kod zawarty w `censor` został wykonany, ale nie wtedy kiedy chcieliśmy.\n",
    "Kod został wykonany w momencie \"opakowywania\" (dekorowania), a nie  wmomencie wywołania funkcji `play_music`. W dodatku `play_music` stało sie w jakiś sposób `None`.\n",
    "\n",
    "Czy ktoś wie **dlaczego**?"
   ]
  },
  {
   "cell_type": "markdown",
   "metadata": {
    "slideshow": {
     "slide_type": "subslide"
    }
   },
   "source": [
    "Żeby pójść dalej z dekoratorami musimy się cofnąć i przypomnieć sobie kilka konceptów i mechanizmów."
   ]
  },
  {
   "cell_type": "markdown",
   "metadata": {
    "slideshow": {
     "slide_type": "slide"
    }
   },
   "source": [
    "# Scope"
   ]
  },
  {
   "cell_type": "markdown",
   "metadata": {
    "slideshow": {
     "slide_type": "subslide"
    }
   },
   "source": [
    "Zmienne mogą być zdefniowane na różnych poziomach i mają wynikającą z tego \"widoczność\"."
   ]
  },
  {
   "cell_type": "code",
   "execution_count": 52,
   "metadata": {
    "slideshow": {
     "slide_type": "subslide"
    }
   },
   "outputs": [
    {
     "ename": "UnboundLocalError",
     "evalue": "local variable 'a' referenced before assignment",
     "output_type": "error",
     "traceback": [
      "\u001b[0;31m---------------------------------------------------------------------------\u001b[0m",
      "\u001b[0;31mUnboundLocalError\u001b[0m                         Traceback (most recent call last)",
      "\u001b[0;32m<ipython-input-52-5f3683e60be0>\u001b[0m in \u001b[0;36m<module>\u001b[0;34m()\u001b[0m\n\u001b[1;32m      9\u001b[0m     \u001b[0mprint\u001b[0m\u001b[0;34m(\u001b[0m\u001b[0;34m'add_something_to_a_and_b b:'\u001b[0m\u001b[0;34m,\u001b[0m \u001b[0mb\u001b[0m\u001b[0;34m)\u001b[0m\u001b[0;34m\u001b[0m\u001b[0m\n\u001b[1;32m     10\u001b[0m \u001b[0;34m\u001b[0m\u001b[0m\n\u001b[0;32m---> 11\u001b[0;31m \u001b[0madd_something_to_a_and_b\u001b[0m\u001b[0;34m(\u001b[0m\u001b[0;36m11\u001b[0m\u001b[0;34m)\u001b[0m\u001b[0;34m\u001b[0m\u001b[0m\n\u001b[0m\u001b[1;32m     12\u001b[0m \u001b[0mprint\u001b[0m\u001b[0;34m(\u001b[0m\u001b[0;34m'a:'\u001b[0m\u001b[0;34m,\u001b[0m \u001b[0ma\u001b[0m\u001b[0;34m)\u001b[0m\u001b[0;34m\u001b[0m\u001b[0m\n\u001b[1;32m     13\u001b[0m \u001b[0mprint\u001b[0m\u001b[0;34m(\u001b[0m\u001b[0;34m'b:'\u001b[0m\u001b[0;34m,\u001b[0m \u001b[0mb\u001b[0m\u001b[0;34m)\u001b[0m\u001b[0;34m\u001b[0m\u001b[0m\n",
      "\u001b[0;32m<ipython-input-52-5f3683e60be0>\u001b[0m in \u001b[0;36madd_something_to_a_and_b\u001b[0;34m(something)\u001b[0m\n\u001b[1;32m      4\u001b[0m \u001b[0;34m\u001b[0m\u001b[0m\n\u001b[1;32m      5\u001b[0m \u001b[0;32mdef\u001b[0m \u001b[0madd_something_to_a_and_b\u001b[0m\u001b[0;34m(\u001b[0m\u001b[0msomething\u001b[0m\u001b[0;34m)\u001b[0m\u001b[0;34m:\u001b[0m\u001b[0;34m\u001b[0m\u001b[0m\n\u001b[0;32m----> 6\u001b[0;31m     \u001b[0ma\u001b[0m \u001b[0;34m+=\u001b[0m \u001b[0msomething\u001b[0m\u001b[0;34m\u001b[0m\u001b[0m\n\u001b[0m\u001b[1;32m      7\u001b[0m     \u001b[0mb\u001b[0m \u001b[0;34m+=\u001b[0m \u001b[0msomething\u001b[0m\u001b[0;34m\u001b[0m\u001b[0m\n\u001b[1;32m      8\u001b[0m     \u001b[0mprint\u001b[0m\u001b[0;34m(\u001b[0m\u001b[0;34m'add_something_to_a_and_b a:'\u001b[0m\u001b[0;34m,\u001b[0m \u001b[0ma\u001b[0m\u001b[0;34m)\u001b[0m\u001b[0;34m\u001b[0m\u001b[0m\n",
      "\u001b[0;31mUnboundLocalError\u001b[0m: local variable 'a' referenced before assignment"
     ]
    }
   ],
   "source": [
    "# Przykład na zmienne \"globalne\"\n",
    "a = 1\n",
    "b = 101\n",
    "\n",
    "def add_something_to_a_and_b(something):\n",
    "    a += something\n",
    "    b += something\n",
    "    print('add_something_to_a_and_b a:', a)\n",
    "    print('add_something_to_a_and_b b:', b)\n",
    "\n",
    "add_something_to_a_and_b(11)\n",
    "print('a:', a)\n",
    "print('b:', b)"
   ]
  },
  {
   "cell_type": "code",
   "execution_count": 53,
   "metadata": {
    "slideshow": {
     "slide_type": "subslide"
    }
   },
   "outputs": [
    {
     "name": "stdout",
     "output_type": "stream",
     "text": [
      "add_something_to_a_and_b a: 12 id a: 11062112\n",
      "add_something_to_a_and_b b: 112 id b: 11065312\n",
      "a: 12 id a: 11062112\n",
      "b: 101 id b: 11064960\n"
     ]
    }
   ],
   "source": [
    "# Przykład na zmienne \"globalne\" działający\n",
    "a = 1\n",
    "b = 101\n",
    "\n",
    "def add_something_to_a_and_b(something):\n",
    "    global a\n",
    "    b = 101\n",
    "    a += something\n",
    "    b += something\n",
    "    print('add_something_to_a_and_b a:', a, 'id a:', id(a))\n",
    "    print('add_something_to_a_and_b b:', b, 'id b:', id(b))\n",
    "\n",
    "add_something_to_a_and_b(11)\n",
    "print('a:', a, 'id a:', id(a))\n",
    "print('b:', b, 'id b:', id(b))"
   ]
  },
  {
   "cell_type": "code",
   "execution_count": 54,
   "metadata": {
    "slideshow": {
     "slide_type": "subslide"
    }
   },
   "outputs": [
    {
     "name": "stdout",
     "output_type": "stream",
     "text": [
      "add_something_to_a_and_b a: [12] id a: 140659921335176\n",
      "a: [12] id a: 140659921335176\n"
     ]
    }
   ],
   "source": [
    "# Przykład na zmienne \"globalne\" z obiektami mutowalnymi\n",
    "a = [1]\n",
    "\n",
    "def add_something_to_a(something):\n",
    "    a[0] += something\n",
    "    print('add_something_to_a_and_b a:', a, 'id a:', id(a))\n",
    "\n",
    "add_something_to_a(11)\n",
    "print('a:', a, 'id a:', id(a))"
   ]
  },
  {
   "cell_type": "markdown",
   "metadata": {
    "slideshow": {
     "slide_type": "subslide"
    }
   },
   "source": [
    "Używanie zmiennych globalnych jest uznawane za nieprofesjonalne :)\n",
    "W większych projektach bardzo łatwo zrobić sobie i innym krzywdę modyfikując zawartość/stan zmiennych globalnych."
   ]
  },
  {
   "cell_type": "markdown",
   "metadata": {
    "slideshow": {
     "slide_type": "slide"
    }
   },
   "source": [
    "# Closure"
   ]
  },
  {
   "cell_type": "code",
   "execution_count": 55,
   "metadata": {
    "slideshow": {
     "slide_type": "subslide"
    }
   },
   "outputs": [
    {
     "name": "stdout",
     "output_type": "stream",
     "text": [
      "hello Janek!\n",
      "hi Magda!\n",
      "hello Maciek!\n"
     ]
    }
   ],
   "source": [
    "def hey_hi_hello_factory(welcome_txt='hello'):\n",
    "    def greet(name):\n",
    "        print('{} {}!'.format(welcome_txt, name))\n",
    "    return greet\n",
    "        \n",
    "say_hello = hey_hi_hello_factory('hello')\n",
    "say_hi = hey_hi_hello_factory('hi')\n",
    "\n",
    "say_hello('Janek')\n",
    "say_hi('Magda')\n",
    "say_hello('Maciek')"
   ]
  },
  {
   "cell_type": "markdown",
   "metadata": {
    "slideshow": {
     "slide_type": "subslide"
    }
   },
   "source": [
    "Mamy dostęp (read) do zmiennych zadeklarowanych w funkcji okalającej!"
   ]
  },
  {
   "cell_type": "markdown",
   "metadata": {
    "slideshow": {
     "slide_type": "subslide"
    }
   },
   "source": [
    "Mimo, że `say_hello` i `say_hi` są używane poza `hey_hi_hello_factory`!"
   ]
  },
  {
   "cell_type": "code",
   "execution_count": 56,
   "metadata": {
    "slideshow": {
     "slide_type": "subslide"
    }
   },
   "outputs": [
    {
     "ename": "UnboundLocalError",
     "evalue": "local variable 'counter' referenced before assignment",
     "output_type": "error",
     "traceback": [
      "\u001b[0;31m---------------------------------------------------------------------------\u001b[0m",
      "\u001b[0;31mUnboundLocalError\u001b[0m                         Traceback (most recent call last)",
      "\u001b[0;32m<ipython-input-56-3d06c4ce8d1a>\u001b[0m in \u001b[0;36m<module>\u001b[0;34m()\u001b[0m\n\u001b[1;32m      9\u001b[0m \u001b[0msay_hi\u001b[0m \u001b[0;34m=\u001b[0m \u001b[0mhey_hi_hello_factory\u001b[0m\u001b[0;34m(\u001b[0m\u001b[0;34m'hi'\u001b[0m\u001b[0;34m)\u001b[0m\u001b[0;34m\u001b[0m\u001b[0m\n\u001b[1;32m     10\u001b[0m \u001b[0;34m\u001b[0m\u001b[0m\n\u001b[0;32m---> 11\u001b[0;31m \u001b[0msay_hello\u001b[0m\u001b[0;34m(\u001b[0m\u001b[0;34m'Janek'\u001b[0m\u001b[0;34m)\u001b[0m\u001b[0;34m\u001b[0m\u001b[0m\n\u001b[0m\u001b[1;32m     12\u001b[0m \u001b[0msay_hi\u001b[0m\u001b[0;34m(\u001b[0m\u001b[0;34m'Magda'\u001b[0m\u001b[0;34m)\u001b[0m\u001b[0;34m\u001b[0m\u001b[0m\n\u001b[1;32m     13\u001b[0m \u001b[0msay_hello\u001b[0m\u001b[0;34m(\u001b[0m\u001b[0;34m'Maciek'\u001b[0m\u001b[0;34m)\u001b[0m\u001b[0;34m\u001b[0m\u001b[0m\n",
      "\u001b[0;32m<ipython-input-56-3d06c4ce8d1a>\u001b[0m in \u001b[0;36mgreet\u001b[0;34m(name)\u001b[0m\n\u001b[1;32m      2\u001b[0m     \u001b[0mcounter\u001b[0m \u001b[0;34m=\u001b[0m \u001b[0;36m0\u001b[0m\u001b[0;34m\u001b[0m\u001b[0m\n\u001b[1;32m      3\u001b[0m     \u001b[0;32mdef\u001b[0m \u001b[0mgreet\u001b[0m\u001b[0;34m(\u001b[0m\u001b[0mname\u001b[0m\u001b[0;34m)\u001b[0m\u001b[0;34m:\u001b[0m\u001b[0;34m\u001b[0m\u001b[0m\n\u001b[0;32m----> 4\u001b[0;31m         \u001b[0mcounter\u001b[0m \u001b[0;34m+=\u001b[0m \u001b[0;36m1\u001b[0m\u001b[0;34m\u001b[0m\u001b[0m\n\u001b[0m\u001b[1;32m      5\u001b[0m         \u001b[0mprint\u001b[0m\u001b[0;34m(\u001b[0m\u001b[0;34m'{} {}!\\tcounter: {}'\u001b[0m\u001b[0;34m.\u001b[0m\u001b[0mformat\u001b[0m\u001b[0;34m(\u001b[0m\u001b[0mwelcome_txt\u001b[0m\u001b[0;34m,\u001b[0m \u001b[0mname\u001b[0m\u001b[0;34m,\u001b[0m \u001b[0mcounter\u001b[0m\u001b[0;34m)\u001b[0m\u001b[0;34m)\u001b[0m\u001b[0;34m\u001b[0m\u001b[0m\n\u001b[1;32m      6\u001b[0m     \u001b[0;32mreturn\u001b[0m \u001b[0mgreet\u001b[0m\u001b[0;34m\u001b[0m\u001b[0m\n",
      "\u001b[0;31mUnboundLocalError\u001b[0m: local variable 'counter' referenced before assignment"
     ]
    }
   ],
   "source": [
    "def hey_hi_hello_factory(welcome_txt='hello'):\n",
    "    counter = 0\n",
    "    def greet(name):\n",
    "        counter += 1\n",
    "        print('{} {}!\\tcounter: {}'.format(welcome_txt, name, counter))\n",
    "    return greet\n",
    "        \n",
    "say_hello = hey_hi_hello_factory('hello')\n",
    "say_hi = hey_hi_hello_factory('hi')\n",
    "\n",
    "say_hello('Janek')\n",
    "say_hi('Magda')\n",
    "say_hello('Maciek')"
   ]
  },
  {
   "cell_type": "markdown",
   "metadata": {
    "slideshow": {
     "slide_type": "subslide"
    }
   },
   "source": [
    "Dostęp (write) do zmiennej zadeklarowanej w funkcji okalającej nie działa :("
   ]
  },
  {
   "cell_type": "markdown",
   "metadata": {
    "slideshow": {
     "slide_type": "subslide"
    }
   },
   "source": [
    "W python 2.7 skończylibyśmy w tym miejscu, bo nie było na ten problem rozwiązania eleganckiego.\n",
    "Dostępne opcje to obiekty mutowalne i korzystanie z atrybutów funkcji."
   ]
  },
  {
   "cell_type": "markdown",
   "metadata": {
    "slideshow": {
     "slide_type": "subslide"
    }
   },
   "source": [
    "Ale na szczęście jest już python w wersji 3.6 :)"
   ]
  },
  {
   "cell_type": "code",
   "execution_count": 57,
   "metadata": {
    "slideshow": {
     "slide_type": "subslide"
    }
   },
   "outputs": [
    {
     "name": "stdout",
     "output_type": "stream",
     "text": [
      "hello Janek!\tcounter: 1\n",
      "hi Magda!\tcounter: 1\n",
      "hello Maciek!\tcounter: 2\n"
     ]
    }
   ],
   "source": [
    "def hey_hi_hello_factory(welcome_txt='hello'):\n",
    "    counter = 0\n",
    "    def greet(name):\n",
    "        nonlocal counter\n",
    "        counter += 1\n",
    "        print('{} {}!\\tcounter: {}'.format(welcome_txt, name, counter))\n",
    "    return greet\n",
    "        \n",
    "say_hello = hey_hi_hello_factory('hello')\n",
    "say_hi = hey_hi_hello_factory('hi')\n",
    "\n",
    "say_hello('Janek')\n",
    "say_hi('Magda')\n",
    "say_hello('Maciek')"
   ]
  },
  {
   "cell_type": "markdown",
   "metadata": {
    "slideshow": {
     "slide_type": "slide"
    }
   },
   "source": [
    "# Function as first class object"
   ]
  },
  {
   "cell_type": "markdown",
   "metadata": {
    "slideshow": {
     "slide_type": "subslide"
    }
   },
   "source": [
    "Zwykle podaje się przykład, że można funkcję do zmiennej przekazywać. Coś w stylu:"
   ]
  },
  {
   "cell_type": "code",
   "execution_count": 58,
   "metadata": {
    "slideshow": {
     "slide_type": "subslide"
    }
   },
   "outputs": [
    {
     "name": "stdout",
     "output_type": "stream",
     "text": [
      "hello Kuba\n",
      "hello Arek\n"
     ]
    }
   ],
   "source": [
    "def hello(name):\n",
    "    print('hello', name)\n",
    "\n",
    "goodbye = hello\n",
    "\n",
    "hello('Kuba')\n",
    "goodbye('Arek')"
   ]
  },
  {
   "cell_type": "markdown",
   "metadata": {
    "slideshow": {
     "slide_type": "subslide"
    }
   },
   "source": [
    "Ale w python można więcej!"
   ]
  },
  {
   "cell_type": "markdown",
   "metadata": {
    "slideshow": {
     "slide_type": "subslide"
    }
   },
   "source": [
    "Można ustawiać atrybuty na funkcjach!"
   ]
  },
  {
   "cell_type": "code",
   "execution_count": 59,
   "metadata": {
    "slideshow": {
     "slide_type": "subslide"
    }
   },
   "outputs": [
    {
     "ename": "AttributeError",
     "evalue": "'function' object has no attribute 'count'",
     "output_type": "error",
     "traceback": [
      "\u001b[0;31m---------------------------------------------------------------------------\u001b[0m",
      "\u001b[0;31mAttributeError\u001b[0m                            Traceback (most recent call last)",
      "\u001b[0;32m<ipython-input-59-f3271dac153e>\u001b[0m in \u001b[0;36m<module>\u001b[0;34m()\u001b[0m\n\u001b[1;32m      5\u001b[0m \u001b[0mgoodbye\u001b[0m \u001b[0;34m=\u001b[0m \u001b[0mhello\u001b[0m\u001b[0;34m\u001b[0m\u001b[0m\n\u001b[1;32m      6\u001b[0m \u001b[0;34m\u001b[0m\u001b[0m\n\u001b[0;32m----> 7\u001b[0;31m \u001b[0mhello\u001b[0m\u001b[0;34m(\u001b[0m\u001b[0;34m'Kuba'\u001b[0m\u001b[0;34m)\u001b[0m\u001b[0;34m\u001b[0m\u001b[0m\n\u001b[0m\u001b[1;32m      8\u001b[0m \u001b[0mgoodbye\u001b[0m\u001b[0;34m(\u001b[0m\u001b[0;34m'Arek'\u001b[0m\u001b[0;34m)\u001b[0m\u001b[0;34m\u001b[0m\u001b[0m\n",
      "\u001b[0;32m<ipython-input-59-f3271dac153e>\u001b[0m in \u001b[0;36mhello\u001b[0;34m(name)\u001b[0m\n\u001b[1;32m      1\u001b[0m \u001b[0;32mdef\u001b[0m \u001b[0mhello\u001b[0m\u001b[0;34m(\u001b[0m\u001b[0mname\u001b[0m\u001b[0;34m)\u001b[0m\u001b[0;34m:\u001b[0m\u001b[0;34m\u001b[0m\u001b[0m\n\u001b[0;32m----> 2\u001b[0;31m     \u001b[0mhello\u001b[0m\u001b[0;34m.\u001b[0m\u001b[0mcount\u001b[0m \u001b[0;34m+=\u001b[0m \u001b[0;36m1\u001b[0m\u001b[0;34m\u001b[0m\u001b[0m\n\u001b[0m\u001b[1;32m      3\u001b[0m     \u001b[0mprint\u001b[0m\u001b[0;34m(\u001b[0m\u001b[0;34m'hello'\u001b[0m\u001b[0;34m,\u001b[0m \u001b[0mname\u001b[0m\u001b[0;34m,\u001b[0m \u001b[0;34m'count:'\u001b[0m\u001b[0;34m,\u001b[0m \u001b[0mhello\u001b[0m\u001b[0;34m.\u001b[0m\u001b[0mcount\u001b[0m\u001b[0;34m)\u001b[0m\u001b[0;34m\u001b[0m\u001b[0m\n\u001b[1;32m      4\u001b[0m \u001b[0;34m\u001b[0m\u001b[0m\n\u001b[1;32m      5\u001b[0m \u001b[0mgoodbye\u001b[0m \u001b[0;34m=\u001b[0m \u001b[0mhello\u001b[0m\u001b[0;34m\u001b[0m\u001b[0m\n",
      "\u001b[0;31mAttributeError\u001b[0m: 'function' object has no attribute 'count'"
     ]
    }
   ],
   "source": [
    "def hello(name):\n",
    "    hello.count += 1\n",
    "    print('hello', name, 'count:', hello.count)\n",
    "\n",
    "goodbye = hello\n",
    "\n",
    "hello('Kuba')\n",
    "goodbye('Arek')"
   ]
  },
  {
   "cell_type": "code",
   "execution_count": 60,
   "metadata": {
    "slideshow": {
     "slide_type": "subslide"
    }
   },
   "outputs": [
    {
     "name": "stdout",
     "output_type": "stream",
     "text": [
      "hello Kuba count: 1\n",
      "hello Arek count: 1\n"
     ]
    }
   ],
   "source": [
    "# najpierw atrybut trzeba zdefiniować :)\n",
    "def hello(name):\n",
    "    hello.count = 0\n",
    "    hello.count += 1\n",
    "    print('hello', name, 'count:', hello.count)\n",
    "\n",
    "goodbye = hello\n",
    "\n",
    "hello('Kuba')\n",
    "goodbye('Arek')"
   ]
  },
  {
   "cell_type": "code",
   "execution_count": 61,
   "metadata": {
    "slideshow": {
     "slide_type": "subslide"
    }
   },
   "outputs": [
    {
     "name": "stdout",
     "output_type": "stream",
     "text": [
      "hello Kuba count: 1\n",
      "hello Arek count: 2\n"
     ]
    }
   ],
   "source": [
    "# najpierw atrybut trzeba zdefiniować, ale tylko raz :)\n",
    "def hello(name):\n",
    "    # nie za bardzo jest opcja wewnątrz funkcji\n",
    "    hello.count += 1\n",
    "    print('hello', name, 'count:', hello.count)\n",
    "    \n",
    "# ale można na zewnątrz\n",
    "hello.count = 0\n",
    "\n",
    "goodbye = hello\n",
    "\n",
    "hello('Kuba')\n",
    "goodbye('Arek')"
   ]
  },
  {
   "cell_type": "markdown",
   "metadata": {
    "slideshow": {
     "slide_type": "subslide"
    }
   },
   "source": [
    "Wykorzystywanie atrybutów funkcji było powszechne w python 2.7 i wcześniejszych, ponieważ `nonlocal` jeszcze nie istniało. Wiele kodu jest przeportowane z 2.7 do 3.x i łatwo można się natknąć na wykorzystanie arybutów. W nowym kodzie zalecam używanie `nonlocal`."
   ]
  },
  {
   "cell_type": "markdown",
   "metadata": {
    "slideshow": {
     "slide_type": "subslide"
    }
   },
   "source": [
    "# Wykonanie kodu zamiast udekorowanej funkcji, podejście nr 2"
   ]
  },
  {
   "cell_type": "code",
   "execution_count": 62,
   "metadata": {
    "slideshow": {
     "slide_type": "subslide"
    }
   },
   "outputs": [],
   "source": [
    "def censor(singer):\n",
    "    def print_censor_msg():\n",
    "        print('Nie pozwalam wykonać: {}'.format(singer.__name__))\n",
    "    return print_censor_msg"
   ]
  },
  {
   "cell_type": "code",
   "execution_count": 63,
   "metadata": {
    "slideshow": {
     "slide_type": "subslide"
    }
   },
   "outputs": [],
   "source": [
    "@censor\n",
    "def play_music():\n",
    "    print('Gra muzyka')"
   ]
  },
  {
   "cell_type": "code",
   "execution_count": 64,
   "metadata": {
    "scrolled": true,
    "slideshow": {
     "slide_type": "subslide"
    }
   },
   "outputs": [
    {
     "name": "stdout",
     "output_type": "stream",
     "text": [
      "Nie pozwalam wykonać: play_music\n"
     ]
    }
   ],
   "source": [
    "play_music()"
   ]
  },
  {
   "cell_type": "code",
   "execution_count": 65,
   "metadata": {
    "scrolled": true,
    "slideshow": {
     "slide_type": "subslide"
    }
   },
   "outputs": [
    {
     "name": "stdout",
     "output_type": "stream",
     "text": [
      "Nie pozwalam wykonać: play_music\n",
      "Nie pozwalam wykonać: play_music\n",
      "Nie pozwalam wykonać: play_music\n"
     ]
    }
   ],
   "source": [
    "play_music()\n",
    "play_music()\n",
    "play_music()"
   ]
  },
  {
   "cell_type": "markdown",
   "metadata": {
    "slideshow": {
     "slide_type": "subslide"
    }
   },
   "source": [
    "Jeśli dekorujemy funkcję to dekorator powinien zwracać obiekt, który można \"zawołać\"/\"wykonać\" (callable)! "
   ]
  },
  {
   "cell_type": "markdown",
   "metadata": {
    "slideshow": {
     "slide_type": "slide"
    }
   },
   "source": [
    "# Wykonanie kodu przed udekorowaną funkcją"
   ]
  },
  {
   "cell_type": "code",
   "execution_count": 66,
   "metadata": {
    "slideshow": {
     "slide_type": "subslide"
    }
   },
   "outputs": [],
   "source": [
    "def przodownik(wolna_funkcja):\n",
    "    def inner():\n",
    "        print('Pierwszy!!1!')\n",
    "        return wolna_funkcja()\n",
    "    return inner"
   ]
  },
  {
   "cell_type": "code",
   "execution_count": 67,
   "metadata": {
    "slideshow": {
     "slide_type": "subslide"
    }
   },
   "outputs": [],
   "source": [
    "@przodownik\n",
    "def play_music():\n",
    "    print('Gra muzyka')"
   ]
  },
  {
   "cell_type": "code",
   "execution_count": 68,
   "metadata": {
    "slideshow": {
     "slide_type": "subslide"
    }
   },
   "outputs": [
    {
     "name": "stdout",
     "output_type": "stream",
     "text": [
      "Pierwszy!!1!\n",
      "Gra muzyka\n"
     ]
    }
   ],
   "source": [
    "play_music()"
   ]
  },
  {
   "cell_type": "code",
   "execution_count": 69,
   "metadata": {
    "slideshow": {
     "slide_type": "subslide"
    }
   },
   "outputs": [
    {
     "name": "stdout",
     "output_type": "stream",
     "text": [
      "Pierwszy!!1!\n",
      "Gra muzyka\n",
      "Pierwszy!!1!\n",
      "Gra muzyka\n",
      "Pierwszy!!1!\n",
      "Gra muzyka\n"
     ]
    }
   ],
   "source": [
    "play_music()\n",
    "play_music()\n",
    "play_music()"
   ]
  },
  {
   "cell_type": "markdown",
   "metadata": {
    "slideshow": {
     "slide_type": "slide"
    }
   },
   "source": [
    "# Wykonanie kodu po udekorowanej funkcji"
   ]
  },
  {
   "cell_type": "code",
   "execution_count": 70,
   "metadata": {
    "slideshow": {
     "slide_type": "subslide"
    }
   },
   "outputs": [],
   "source": [
    "def bumelant(szybka_funkcja):\n",
    "    def inner():\n",
    "        result = szybka_funkcja()\n",
    "        print('Zasada zachowania energii: zachowaj energię na później :)')\n",
    "        return result\n",
    "    return inner"
   ]
  },
  {
   "cell_type": "code",
   "execution_count": 71,
   "metadata": {
    "slideshow": {
     "slide_type": "subslide"
    }
   },
   "outputs": [],
   "source": [
    "@bumelant\n",
    "def play_music():\n",
    "    print('Gra muzyka')"
   ]
  },
  {
   "cell_type": "code",
   "execution_count": 72,
   "metadata": {
    "slideshow": {
     "slide_type": "subslide"
    }
   },
   "outputs": [
    {
     "name": "stdout",
     "output_type": "stream",
     "text": [
      "Gra muzyka\n",
      "Zasada zachowania energii: zachowaj energię na później :)\n"
     ]
    }
   ],
   "source": [
    "play_music()"
   ]
  },
  {
   "cell_type": "markdown",
   "metadata": {
    "slideshow": {
     "slide_type": "slide"
    }
   },
   "source": [
    "# Utrata informacji - wraps"
   ]
  },
  {
   "cell_type": "code",
   "execution_count": 73,
   "metadata": {
    "slideshow": {
     "slide_type": "subslide"
    }
   },
   "outputs": [
    {
     "name": "stdout",
     "output_type": "stream",
     "text": [
      "inner\n"
     ]
    }
   ],
   "source": [
    "# wykorzystamy udekorowaną funkcję z poprzedniego przykładu\n",
    "print(play_music.__name__)"
   ]
  },
  {
   "cell_type": "markdown",
   "metadata": {
    "slideshow": {
     "slide_type": "subslide"
    }
   },
   "source": [
    "Dekorowanie funkcji zabiera nam część informacji o tym co miało być wykonywane. Możemy się bardzo zdziwić w przypadku jakiegoś błędu, ze nie rozumiemy czemu jakiś kawałek kodu się wykonał."
   ]
  },
  {
   "cell_type": "markdown",
   "metadata": {
    "slideshow": {
     "slide_type": "subslide"
    }
   },
   "source": [
    "Ale jest na to rozwiązanie!"
   ]
  },
  {
   "cell_type": "markdown",
   "metadata": {
    "slideshow": {
     "slide_type": "subslide"
    }
   },
   "source": [
    "Kolejny dekorator - `wraps`."
   ]
  },
  {
   "cell_type": "code",
   "execution_count": 74,
   "metadata": {
    "slideshow": {
     "slide_type": "subslide"
    }
   },
   "outputs": [],
   "source": [
    "from functools import wraps\n",
    "\n",
    "def bumelant(szybka_funkcja):\n",
    "    @wraps(szybka_funkcja)\n",
    "    def inner():\n",
    "        result = szybka_funkcja()\n",
    "        print('Zasada zachowania energii: zachowaj energię na później :)')\n",
    "        return result\n",
    "    return inner"
   ]
  },
  {
   "cell_type": "code",
   "execution_count": 75,
   "metadata": {
    "slideshow": {
     "slide_type": "subslide"
    }
   },
   "outputs": [],
   "source": [
    "@bumelant\n",
    "def play_music():\n",
    "    print('Gra muzyka')"
   ]
  },
  {
   "cell_type": "code",
   "execution_count": 76,
   "metadata": {
    "slideshow": {
     "slide_type": "subslide"
    }
   },
   "outputs": [
    {
     "name": "stdout",
     "output_type": "stream",
     "text": [
      "Gra muzyka\n",
      "Zasada zachowania energii: zachowaj energię na później :)\n"
     ]
    }
   ],
   "source": [
    "play_music()"
   ]
  },
  {
   "cell_type": "code",
   "execution_count": 77,
   "metadata": {
    "slideshow": {
     "slide_type": "subslide"
    }
   },
   "outputs": [
    {
     "name": "stdout",
     "output_type": "stream",
     "text": [
      "play_music\n"
     ]
    }
   ],
   "source": [
    "print(play_music.__name__)"
   ]
  },
  {
   "cell_type": "markdown",
   "metadata": {
    "slideshow": {
     "slide_type": "slide"
    }
   },
   "source": [
    "# Więcej niż jedno zwierzę"
   ]
  },
  {
   "cell_type": "markdown",
   "metadata": {
    "slideshow": {
     "slide_type": "subslide"
    }
   },
   "source": [
    "Czy można funkcję/klasę udekorować więcej niż jednym dekoratorem? "
   ]
  },
  {
   "cell_type": "markdown",
   "metadata": {
    "slideshow": {
     "slide_type": "subslide"
    }
   },
   "source": [
    "Można :)"
   ]
  },
  {
   "cell_type": "markdown",
   "metadata": {
    "slideshow": {
     "slide_type": "subslide"
    }
   },
   "source": [
    "### Składnia\n",
    "\n",
    "```python\n",
    "def dekorator_pierwszy(do_udekorowania):\n",
    "    # ciało pierwszego dekoratora\n",
    "    \n",
    "def dekorator_drugi(do_udekorowania):\n",
    "    # ciało drugirgo dekoratora\n",
    "```"
   ]
  },
  {
   "cell_type": "markdown",
   "metadata": {
    "slideshow": {
     "slide_type": "subslide"
    }
   },
   "source": [
    "```python\n",
    "@dekorator_pierwszy\n",
    "@dekorator_drugi\n",
    "def zwykla_funkcja():\n",
    "    # ciało zwykłej funkcji\n",
    "    \n",
    "# to znaczy mniej więcej\n",
    "zwykla_funkcja = dekorator_pierwszy(dekorator_drugi(zwykla_funkcja))\n",
    "# kolejność wykonywania: od najbardziej wewnętrznego do najbardziej zewnętrznego\n",
    "# czyli dekorator pierwszy od góry zostanie wykonany jako ostatni :)\n",
    "\n",
    "# użycie\n",
    "zwykla_funkcja()\n",
    "```"
   ]
  },
  {
   "cell_type": "markdown",
   "metadata": {
    "slideshow": {
     "slide_type": "subslide"
    }
   },
   "source": [
    "Warto pamiętać o używaniu `wraps` - bardzo sie przydaje w przypadku \"piętrowych\" dekoratorów - ułatwia zrozumienie co się dzieje."
   ]
  },
  {
   "cell_type": "markdown",
   "metadata": {
    "slideshow": {
     "slide_type": "slide"
    }
   },
   "source": [
    "# Dekorowana funkcja z argumentami"
   ]
  },
  {
   "cell_type": "markdown",
   "metadata": {
    "slideshow": {
     "slide_type": "subslide"
    }
   },
   "source": [
    "Czasami bywa tak, że funkcja powinna przyjmować argumenty."
   ]
  },
  {
   "cell_type": "code",
   "execution_count": 78,
   "metadata": {
    "slideshow": {
     "slide_type": "subslide"
    }
   },
   "outputs": [],
   "source": [
    "from functools import wraps\n",
    "\n",
    "def bumelant(szybka_funkcja):\n",
    "    @wraps(szybka_funkcja)\n",
    "    def inner():\n",
    "        result = szybka_funkcja()\n",
    "        print('Zasada zachowania energii: zachowaj energię na później :)')\n",
    "        return result\n",
    "    return inner"
   ]
  },
  {
   "cell_type": "code",
   "execution_count": 79,
   "metadata": {
    "slideshow": {
     "slide_type": "subslide"
    }
   },
   "outputs": [],
   "source": [
    "@bumelant\n",
    "def play(music):\n",
    "    print('Gra: {}'.format(music))"
   ]
  },
  {
   "cell_type": "code",
   "execution_count": 80,
   "metadata": {
    "slideshow": {
     "slide_type": "subslide"
    }
   },
   "outputs": [
    {
     "ename": "TypeError",
     "evalue": "inner() takes 0 positional arguments but 1 was given",
     "output_type": "error",
     "traceback": [
      "\u001b[0;31m---------------------------------------------------------------------------\u001b[0m",
      "\u001b[0;31mTypeError\u001b[0m                                 Traceback (most recent call last)",
      "\u001b[0;32m<ipython-input-80-d3a1035300af>\u001b[0m in \u001b[0;36m<module>\u001b[0;34m()\u001b[0m\n\u001b[0;32m----> 1\u001b[0;31m \u001b[0mplay\u001b[0m\u001b[0;34m(\u001b[0m\u001b[0;34m'jazz'\u001b[0m\u001b[0;34m)\u001b[0m\u001b[0;34m\u001b[0m\u001b[0m\n\u001b[0m",
      "\u001b[0;31mTypeError\u001b[0m: inner() takes 0 positional arguments but 1 was given"
     ]
    }
   ],
   "source": [
    "play('jazz')"
   ]
  },
  {
   "cell_type": "code",
   "execution_count": 81,
   "metadata": {
    "slideshow": {
     "slide_type": "subslide"
    }
   },
   "outputs": [],
   "source": [
    "from functools import wraps\n",
    "\n",
    "def bumelant(szybka_funkcja):\n",
    "    @wraps(szybka_funkcja)\n",
    "    def inner(*args):\n",
    "        result = szybka_funkcja(*args)\n",
    "        print('Zasada zachowania energii: zachowaj energię na później :)')\n",
    "        return result\n",
    "    return inner"
   ]
  },
  {
   "cell_type": "code",
   "execution_count": 82,
   "metadata": {
    "slideshow": {
     "slide_type": "subslide"
    }
   },
   "outputs": [],
   "source": [
    "@bumelant\n",
    "def play(music):\n",
    "    print('Gra: {}'.format(music))"
   ]
  },
  {
   "cell_type": "code",
   "execution_count": 83,
   "metadata": {
    "slideshow": {
     "slide_type": "subslide"
    }
   },
   "outputs": [
    {
     "name": "stdout",
     "output_type": "stream",
     "text": [
      "Gra: jazz\n",
      "Zasada zachowania energii: zachowaj energię na później :)\n"
     ]
    }
   ],
   "source": [
    "play('jazz')"
   ]
  },
  {
   "cell_type": "markdown",
   "metadata": {
    "slideshow": {
     "slide_type": "subslide"
    }
   },
   "source": [
    "A co gdybyśmy chcieli następującą funkcję opakować?"
   ]
  },
  {
   "cell_type": "code",
   "execution_count": 84,
   "metadata": {
    "slideshow": {
     "slide_type": "subslide"
    }
   },
   "outputs": [],
   "source": [
    "@bumelant\n",
    "def play(music='polskie regge'):\n",
    "    print('Gra: {}'.format(music))"
   ]
  },
  {
   "cell_type": "code",
   "execution_count": 85,
   "metadata": {
    "slideshow": {
     "slide_type": "subslide"
    }
   },
   "outputs": [
    {
     "name": "stdout",
     "output_type": "stream",
     "text": [
      "Gra: jazz\n",
      "Zasada zachowania energii: zachowaj energię na później :)\n"
     ]
    }
   ],
   "source": [
    "play('jazz')"
   ]
  },
  {
   "cell_type": "code",
   "execution_count": 86,
   "metadata": {
    "slideshow": {
     "slide_type": "subslide"
    }
   },
   "outputs": [
    {
     "name": "stdout",
     "output_type": "stream",
     "text": [
      "Gra: polskie regge\n",
      "Zasada zachowania energii: zachowaj energię na później :)\n"
     ]
    }
   ],
   "source": [
    "play()"
   ]
  },
  {
   "cell_type": "markdown",
   "metadata": {
    "slideshow": {
     "slide_type": "subslide"
    }
   },
   "source": [
    "* Dlaczego zadziałało?\n",
    "* A co się stanie gdy zmienimy sygnaturę funkcji opakowywanej na:  \n",
    "```python\n",
    "def play(*, music='polskie regge'):\n",
    "```\n",
    "* Czy można zrobić coś lepiej?\n"
   ]
  },
  {
   "cell_type": "markdown",
   "metadata": {
    "slideshow": {
     "slide_type": "slide"
    }
   },
   "source": [
    "# Argumenty dekoratora"
   ]
  },
  {
   "cell_type": "markdown",
   "metadata": {
    "slideshow": {
     "slide_type": "subslide"
    }
   },
   "source": [
    "Z doświadczenia wiemy, że można przekazać argumenty bezpośrednio do dekoratora (`wraps`, `app.route`)."
   ]
  },
  {
   "cell_type": "markdown",
   "metadata": {
    "slideshow": {
     "slide_type": "subslide"
    }
   },
   "source": [
    "Wszystkie dotychczasowe nasze dekoratory przyjmowały za argument funkcję, którą mają opakować. Nie ma w nich miejsca na przekazanie argumentów w `@`."
   ]
  },
  {
   "cell_type": "code",
   "execution_count": 87,
   "metadata": {
    "slideshow": {
     "slide_type": "subslide"
    }
   },
   "outputs": [
    {
     "ename": "TypeError",
     "evalue": "'str' object is not callable",
     "output_type": "error",
     "traceback": [
      "\u001b[0;31m---------------------------------------------------------------------------\u001b[0m",
      "\u001b[0;31mTypeError\u001b[0m                                 Traceback (most recent call last)",
      "\u001b[0;32m<ipython-input-87-59617cc707ab>\u001b[0m in \u001b[0;36m<module>\u001b[0;34m()\u001b[0m\n\u001b[0;32m----> 1\u001b[0;31m \u001b[0;34m@\u001b[0m\u001b[0mbumelant\u001b[0m\u001b[0;34m(\u001b[0m\u001b[0;34m'co masz zrobić dziś zrób pojutrze, będziesz mieć 2 dni wolnego'\u001b[0m\u001b[0;34m)\u001b[0m\u001b[0;34m\u001b[0m\u001b[0m\n\u001b[0m\u001b[1;32m      2\u001b[0m \u001b[0;32mdef\u001b[0m \u001b[0mplay\u001b[0m\u001b[0;34m(\u001b[0m\u001b[0mmusic\u001b[0m\u001b[0;34m)\u001b[0m\u001b[0;34m:\u001b[0m\u001b[0;34m\u001b[0m\u001b[0m\n\u001b[1;32m      3\u001b[0m     \u001b[0mprint\u001b[0m\u001b[0;34m(\u001b[0m\u001b[0;34m'Gra: {}'\u001b[0m\u001b[0;34m.\u001b[0m\u001b[0mformat\u001b[0m\u001b[0;34m(\u001b[0m\u001b[0mmusic\u001b[0m\u001b[0;34m)\u001b[0m\u001b[0;34m)\u001b[0m\u001b[0;34m\u001b[0m\u001b[0m\n",
      "\u001b[0;32m<ipython-input-81-4b97c49dbcd0>\u001b[0m in \u001b[0;36minner\u001b[0;34m(*args)\u001b[0m\n\u001b[1;32m      4\u001b[0m     \u001b[0;34m@\u001b[0m\u001b[0mwraps\u001b[0m\u001b[0;34m(\u001b[0m\u001b[0mszybka_funkcja\u001b[0m\u001b[0;34m)\u001b[0m\u001b[0;34m\u001b[0m\u001b[0m\n\u001b[1;32m      5\u001b[0m     \u001b[0;32mdef\u001b[0m \u001b[0minner\u001b[0m\u001b[0;34m(\u001b[0m\u001b[0;34m*\u001b[0m\u001b[0margs\u001b[0m\u001b[0;34m)\u001b[0m\u001b[0;34m:\u001b[0m\u001b[0;34m\u001b[0m\u001b[0m\n\u001b[0;32m----> 6\u001b[0;31m         \u001b[0mresult\u001b[0m \u001b[0;34m=\u001b[0m \u001b[0mszybka_funkcja\u001b[0m\u001b[0;34m(\u001b[0m\u001b[0;34m*\u001b[0m\u001b[0margs\u001b[0m\u001b[0;34m)\u001b[0m\u001b[0;34m\u001b[0m\u001b[0m\n\u001b[0m\u001b[1;32m      7\u001b[0m         \u001b[0mprint\u001b[0m\u001b[0;34m(\u001b[0m\u001b[0;34m'Zasada zachowania energii: zachowaj energię na później :)'\u001b[0m\u001b[0;34m)\u001b[0m\u001b[0;34m\u001b[0m\u001b[0m\n\u001b[1;32m      8\u001b[0m         \u001b[0;32mreturn\u001b[0m \u001b[0mresult\u001b[0m\u001b[0;34m\u001b[0m\u001b[0m\n",
      "\u001b[0;31mTypeError\u001b[0m: 'str' object is not callable"
     ]
    }
   ],
   "source": [
    "@bumelant('co masz zrobić dziś zrób pojutrze, będziesz mieć 2 dni wolnego')\n",
    "def play(music):\n",
    "    print('Gra: {}'.format(music))"
   ]
  },
  {
   "cell_type": "markdown",
   "metadata": {
    "slideshow": {
     "slide_type": "subslide"
    }
   },
   "source": [
    "Nie wiemy jeszcze jak napisać dekorator, który przyjmie argumenty. "
   ]
  },
  {
   "cell_type": "markdown",
   "metadata": {
    "slideshow": {
     "slide_type": "slide"
    }
   },
   "source": [
    "# Fundamental theorem of software engineering"
   ]
  },
  {
   "cell_type": "markdown",
   "metadata": {
    "slideshow": {
     "slide_type": "subslide"
    }
   },
   "source": [
    "## \"We can solve any problem by introducing an extra level of indirection.\""
   ]
  },
  {
   "cell_type": "markdown",
   "metadata": {
    "slideshow": {
     "slide_type": "subslide"
    }
   },
   "source": [
    "* https://en.wikipedia.org/wiki/Fundamental_theorem_of_software_engineering"
   ]
  },
  {
   "cell_type": "markdown",
   "metadata": {
    "slideshow": {
     "slide_type": "subslide"
    }
   },
   "source": [
    "# Argumenty dekoratora, podejście nr 2"
   ]
  },
  {
   "cell_type": "markdown",
   "metadata": {
    "slideshow": {
     "slide_type": "subslide"
    }
   },
   "source": [
    "Jeśli się poważniej zastanowimy nad poprzednim przykładem to możemy dojść do wniosku, że przekazanie argumentów do dekoratora działa mniej więcej w następujący sposób:\n",
    "```python\n",
    "dekorator(argumenty_dekoratora)(cos_do_udekorowania)(argumenty_czegos_do_udekorowania)\n",
    "```"
   ]
  },
  {
   "cell_type": "markdown",
   "metadata": {
    "slideshow": {
     "slide_type": "subslide"
    }
   },
   "source": [
    "### Szkielet\n",
    "```python\n",
    "def dekorator(argumenty_dekoratora):\n",
    "    # ta funkcja ma za zadanie przechwycić argumenty i zwrócić\n",
    "    # \"prawdziwy\" dekorator\n",
    "    def prawdziwy_dekorator(do_udekorowania):\n",
    "        # Ta funkcja ma za zadanie przechwycić to co zostanie udekorowane.\n",
    "        def wrapper(*args, **kwargs):\n",
    "            # args i kwargs to argumenty funkcji dekorowanej\n",
    "            return to_co_chcemy\n",
    "        return wrapper\n",
    "    return prawdziwy_dekorator\n",
    "```"
   ]
  },
  {
   "cell_type": "markdown",
   "metadata": {
    "slideshow": {
     "slide_type": "subslide"
    }
   },
   "source": [
    "## Przykład 1"
   ]
  },
  {
   "cell_type": "code",
   "execution_count": 88,
   "metadata": {
    "slideshow": {
     "slide_type": "subslide"
    }
   },
   "outputs": [],
   "source": [
    "def bumelant(sentence):\n",
    "    print('decorator called with sentence:', sentence)\n",
    "    def real_decorator(to_be_decorated):\n",
    "        def wrapper(*args, **kwargs):\n",
    "            result = to_be_decorated(*args, **kwargs)\n",
    "            print('Zasada zachowania energii: zachowaj energię na później :)')\n",
    "            print('Sentencja dekoratora:', sentence)\n",
    "            return result\n",
    "        return wrapper\n",
    "    return real_decorator"
   ]
  },
  {
   "cell_type": "code",
   "execution_count": 89,
   "metadata": {
    "slideshow": {
     "slide_type": "subslide"
    }
   },
   "outputs": [
    {
     "name": "stdout",
     "output_type": "stream",
     "text": [
      "decorator called with sentence: Co masz zrobić dziś zrób pojutrze, będziesz mieć 2 dni wolnego\n"
     ]
    }
   ],
   "source": [
    "@bumelant('Co masz zrobić dziś zrób pojutrze, będziesz mieć 2 dni wolnego')\n",
    "def play(music):\n",
    "    print('Gra: {}'.format(music))"
   ]
  },
  {
   "cell_type": "code",
   "execution_count": 90,
   "metadata": {
    "slideshow": {
     "slide_type": "subslide"
    }
   },
   "outputs": [
    {
     "name": "stdout",
     "output_type": "stream",
     "text": [
      "Gra: song of victory\n",
      "Zasada zachowania energii: zachowaj energię na później :)\n",
      "Sentencja dekoratora: Co masz zrobić dziś zrób pojutrze, będziesz mieć 2 dni wolnego\n"
     ]
    }
   ],
   "source": [
    "play('song of victory')"
   ]
  },
  {
   "cell_type": "markdown",
   "metadata": {
    "slideshow": {
     "slide_type": "subslide"
    }
   },
   "source": [
    "##  Przykład 2"
   ]
  },
  {
   "cell_type": "code",
   "execution_count": 91,
   "metadata": {
    "slideshow": {
     "slide_type": "subslide"
    }
   },
   "outputs": [],
   "source": [
    "def my_wraps(original):\n",
    "    def outer_wrapper(to_be_decorated):\n",
    "        def wrapper(*args, **kwargs):\n",
    "            return to_be_decorated(*args, **kwargs)\n",
    "        wrapper.__name__ = original.__name__\n",
    "        return wrapper\n",
    "    return outer_wrapper"
   ]
  },
  {
   "cell_type": "code",
   "execution_count": 92,
   "metadata": {
    "slideshow": {
     "slide_type": "subslide"
    }
   },
   "outputs": [],
   "source": [
    "def przodownik(wolna_funkcja):\n",
    "    @my_wraps(wolna_funkcja)\n",
    "    def inner(*args, **kwargs):\n",
    "        print('Pierwszy!!1!')\n",
    "        return wolna_funkcja(*args, **kwargs)\n",
    "    return inner"
   ]
  },
  {
   "cell_type": "code",
   "execution_count": 93,
   "metadata": {
    "slideshow": {
     "slide_type": "subslide"
    }
   },
   "outputs": [],
   "source": [
    "@przodownik\n",
    "def play(music):\n",
    "    print('Gra: {}'.format(music))"
   ]
  },
  {
   "cell_type": "code",
   "execution_count": 94,
   "metadata": {
    "slideshow": {
     "slide_type": "subslide"
    }
   },
   "outputs": [
    {
     "name": "stdout",
     "output_type": "stream",
     "text": [
      "Pierwszy!!1!\n",
      "Gra: disco\n",
      "play\n"
     ]
    }
   ],
   "source": [
    "play('disco')\n",
    "print(play.__name__)"
   ]
  },
  {
   "cell_type": "markdown",
   "metadata": {
    "slideshow": {
     "slide_type": "slide"
    }
   },
   "source": [
    "# Przykłady użytecznych dekoratorów "
   ]
  },
  {
   "cell_type": "markdown",
   "metadata": {
    "slideshow": {
     "slide_type": "subslide"
    }
   },
   "source": [
    "* lista użytecznych dekoratorów: https://github.com/lord63/awesome-python-decorator"
   ]
  },
  {
   "cell_type": "markdown",
   "metadata": {
    "slideshow": {
     "slide_type": "subslide"
    }
   },
   "source": [
    "## app.route()"
   ]
  },
  {
   "cell_type": "markdown",
   "metadata": {
    "slideshow": {
     "slide_type": "subslide"
    }
   },
   "source": [
    "## Cross Site Request Forgery"
   ]
  },
  {
   "cell_type": "markdown",
   "metadata": {
    "slideshow": {
     "slide_type": "subslide"
    }
   },
   "source": [
    "Django ma ochronę przed tym zagrożeniem wbudowaną w formie dekoratora.  \n",
    "\"Goły\" flask nie ma tego zabezpieczenia.\n",
    "\n",
    "* opis różnych ataków i zabezpieczen w kontekście flask: http://flask.pocoo.org/docs/0.12/security/\n",
    "* Rozszerzenie do flask do obsługi formularzy z zabezpieczeniem przed CSRF http://flask-wtf.readthedocs.io/en/stable/csrf.html"
   ]
  },
  {
   "cell_type": "markdown",
   "metadata": {
    "slideshow": {
     "slide_type": "subslide"
    }
   },
   "source": [
    "## classmethod"
   ]
  },
  {
   "cell_type": "markdown",
   "metadata": {
    "slideshow": {
     "slide_type": "subslide"
    }
   },
   "source": [
    "Służy do wykonywania metod nie na instancji danej klasy tylko na danej klasie. Używany zazwyczaj do tworzenia alternatywnych konstruktorów/inicjalizatorów - najczęsciej wariacje `from_string`."
   ]
  },
  {
   "cell_type": "markdown",
   "metadata": {
    "slideshow": {
     "slide_type": "subslide"
    }
   },
   "source": [
    "## staticmethod"
   ]
  },
  {
   "cell_type": "markdown",
   "metadata": {
    "slideshow": {
     "slide_type": "subslide"
    }
   },
   "source": [
    "Służy do oznaczenia metody klasy jako statycznej. Takie metody nie przyjmują parametru `self` i są wywoływane na klasie a nie na instancji. Moim zdaniem takie metody lepiej przenieść do osobnych funkcji w module."
   ]
  },
  {
   "cell_type": "markdown",
   "metadata": {
    "slideshow": {
     "slide_type": "subslide"
    }
   },
   "source": [
    "Artykuł o `classmethod` i `staticmethod`: http://stackabuse.com/pythons-classmethod-and-staticmethod-explained/"
   ]
  },
  {
   "cell_type": "markdown",
   "metadata": {
    "slideshow": {
     "slide_type": "subslide"
    }
   },
   "source": [
    "## functools.wraps"
   ]
  },
  {
   "cell_type": "markdown",
   "metadata": {
    "slideshow": {
     "slide_type": "subslide"
    }
   },
   "source": [
    "## property"
   ]
  },
  {
   "cell_type": "markdown",
   "metadata": {
    "slideshow": {
     "slide_type": "subslide"
    }
   },
   "source": [
    "Pythonowa odpowiedź na gettery i settery. Jest o wiele lepsza niż XX wieczne metody."
   ]
  },
  {
   "cell_type": "markdown",
   "metadata": {
    "slideshow": {
     "slide_type": "subslide"
    }
   },
   "source": [
    "Pomocne linki:\n",
    "* dokumentacja: https://docs.python.org/3/library/functions.html#property\n",
    "* artykuł o tym jak używać: https://www.programiz.com/python-programming/property\n",
    "* inny artykul o tym jak używać: http://stackabuse.com/python-properties/\n"
   ]
  },
  {
   "cell_type": "markdown",
   "metadata": {
    "slideshow": {
     "slide_type": "subslide"
    }
   },
   "source": [
    "## functools.lru_cache"
   ]
  },
  {
   "cell_type": "markdown",
   "metadata": {
    "slideshow": {
     "slide_type": "subslide"
    }
   },
   "source": [
    "Moim zdaniem najlepszy dekorator ze wszystkich jakie spotkałem, najbardziej użyteczny.\n",
    "Dokumentacja: https://docs.python.org/3/library/functools.html#functools.lru_cache\n",
    "Ale należy uważać na standardowe problemy związane z cache.\n",
    "\n",
    "Czy ktoś z sali jest w stanie podać jakiś problem związany z cache?"
   ]
  },
  {
   "cell_type": "markdown",
   "metadata": {
    "slideshow": {
     "slide_type": "slide"
    }
   },
   "source": [
    "# That's all folks!"
   ]
  }
 ],
 "metadata": {
  "celltoolbar": "Slideshow",
  "kernelspec": {
   "display_name": "Python 3",
   "language": "python",
   "name": "python3"
  },
  "language_info": {
   "codemirror_mode": {
    "name": "ipython",
    "version": 3
   },
   "file_extension": ".py",
   "mimetype": "text/x-python",
   "name": "python",
   "nbconvert_exporter": "python",
   "pygments_lexer": "ipython3",
   "version": "3.6.4"
  }
 },
 "nbformat": 4,
 "nbformat_minor": 2
}
