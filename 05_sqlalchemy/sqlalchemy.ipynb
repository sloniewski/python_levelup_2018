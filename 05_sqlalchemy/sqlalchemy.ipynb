{
 "cells": [
  {
   "cell_type": "markdown",
   "metadata": {
    "slideshow": {
     "slide_type": "slide"
    }
   },
   "source": [
    "# SQL i kamień filozoficzny\n",
    "## SQLAlchemy\n",
    "\n",
    "### Marcin Jaroszewski\n",
    "### 05.IV.2018, Python Level UP"
   ]
  },
  {
   "cell_type": "markdown",
   "metadata": {
    "slideshow": {
     "slide_type": "subslide"
    }
   },
   "source": [
    "![Logo kursu Python Level Up](https://raw.githubusercontent.com/daftcode/python_levelup_2018/master/logo.png)"
   ]
  },
  {
   "cell_type": "markdown",
   "metadata": {
    "slideshow": {
     "slide_type": "subslide"
    }
   },
   "source": [
    "![Plan zajęć](https://raw.githubusercontent.com/daftcode/python_levelup_2018/master/plan_zajec.png)"
   ]
  },
  {
   "cell_type": "markdown",
   "metadata": {
    "slideshow": {
     "slide_type": "slide"
    }
   },
   "source": [
    "# 1. ORM - Object-Relational Mapping"
   ]
  },
  {
   "cell_type": "markdown",
   "metadata": {
    "slideshow": {
     "slide_type": "subslide"
    }
   },
   "source": [
    "Sklejenie dwóch niezgodnych systemów typów za pomocą programowania obiektowego.\n",
    "\n",
    "\n",
    "Opis na wikipedii: https://en.wikipedia.org/wiki/Object-relational_mapping"
   ]
  },
  {
   "cell_type": "markdown",
   "metadata": {
    "slideshow": {
     "slide_type": "slide"
    }
   },
   "source": [
    "# 2. ORM w Python "
   ]
  },
  {
   "cell_type": "markdown",
   "metadata": {
    "slideshow": {
     "slide_type": "subslide"
    }
   },
   "source": [
    "- SQLALchemy: https://www.sqlalchemy.org/\n",
    "- PonyORM: https://ponyorm.com/\n",
    "- Django ORM: https://www.djangoproject.com/"
   ]
  },
  {
   "cell_type": "markdown",
   "metadata": {
    "slideshow": {
     "slide_type": "slide"
    }
   },
   "source": [
    "# 3. SQLAlchemy"
   ]
  },
  {
   "cell_type": "markdown",
   "metadata": {
    "slideshow": {
     "slide_type": "subslide"
    }
   },
   "source": [
    "- Duże.\n",
    "- Rozwijane przez wiele lat.\n",
    "- Powszechnie używane.\n",
    "- Nie zawsze łatwe w obsłudze."
   ]
  },
  {
   "cell_type": "markdown",
   "metadata": {
    "slideshow": {
     "slide_type": "subslide"
    }
   },
   "source": [
    "Będziemy się zajmować częścią zwaną **ORM**."
   ]
  },
  {
   "cell_type": "markdown",
   "metadata": {
    "slideshow": {
     "slide_type": "slide"
    }
   },
   "source": [
    "# 4. Instalacja"
   ]
  },
  {
   "cell_type": "markdown",
   "metadata": {
    "slideshow": {
     "slide_type": "subslide"
    }
   },
   "source": [
    "Będziemy używać SQLAlchemy razem z Flask więc proponuję zainstalować je w tym samym środowisku wirtualnym."
   ]
  },
  {
   "cell_type": "markdown",
   "metadata": {
    "slideshow": {
     "slide_type": "subslide"
    }
   },
   "source": [
    "```bash\n",
    "pip install SQLAlchemy\n",
    "```"
   ]
  },
  {
   "cell_type": "markdown",
   "metadata": {
    "slideshow": {
     "slide_type": "subslide"
    }
   },
   "source": [
    "instrukcja: http://docs.sqlalchemy.org/en/latest/intro.html#install-via-pip"
   ]
  },
  {
   "cell_type": "markdown",
   "metadata": {
    "slideshow": {
     "slide_type": "slide"
    }
   },
   "source": [
    "# 5. Modele i relacje"
   ]
  },
  {
   "cell_type": "markdown",
   "metadata": {
    "slideshow": {
     "slide_type": "subslide"
    }
   },
   "source": [
    "Mamy dwa przypadki pracy z SQLAlchemy:\n",
    "1. Nowy projekt, bazy jeszcze nie ma - od początku wdrażamy SQLAlchemy.  \n",
    "W takim wypadku możemy schemat bazy danych wygenerować z modeli SQLAchemy.\n",
    "\n",
    "2. Już istniejący projekt - SQLAlchemy podłączamy do już istniejącej bazy danych.  \n",
    "Modele (niepełne) możemy wygenerować \"automatycznie\" lub ręcznie (pełne)."
   ]
  },
  {
   "cell_type": "markdown",
   "metadata": {
    "slideshow": {
     "slide_type": "subslide"
    }
   },
   "source": [
    "W obu przypadkach lepiej dla nas i naszej aplikacji, aby modele były zgodne ze schematem bazy. W przeciwnym wypadku złe rzeczy mogą się stać."
   ]
  },
  {
   "cell_type": "markdown",
   "metadata": {
    "slideshow": {
     "slide_type": "fragment"
    }
   },
   "source": [
    "500 to łagodny wymiar kary."
   ]
  },
  {
   "cell_type": "markdown",
   "metadata": {
    "slideshow": {
     "slide_type": "subslide"
    }
   },
   "source": [
    "SQLAlchemy obiecuje nam dostęp do bazy danych i danych w niej zawartych w obiektowy i puyhonowy sposób. Zweryfikujemy te obietnice w praktyce łacząc się z bazą Sakila. "
   ]
  },
  {
   "cell_type": "markdown",
   "metadata": {
    "slideshow": {
     "slide_type": "subslide"
    }
   },
   "source": [
    "Pierwszy krok w wykorzystaniu SQLAlchemy wymaga zamodelowania bazy danych (schema)."
   ]
  },
  {
   "cell_type": "markdown",
   "metadata": {
    "slideshow": {
     "slide_type": "subslide"
    }
   },
   "source": [
    "Chcemy się połaczyć do istniejącej bazy wypełnionej danymi.\n",
    "\n",
    "Możemy do problemu podejść na dwa sposoby:\n",
    "1. Ręczny - sami napiszemy modele pasujące do istniejącej bazy.\n",
    "2. Automatyczny - coś wygeneruje modele za nas."
   ]
  },
  {
   "cell_type": "markdown",
   "metadata": {
    "slideshow": {
     "slide_type": "subslide"
    }
   },
   "source": [
    "Ja należę do ludzi leniwych i chciałbym, żeby komputer pracował za mnie więc zacznę od podejścia automatycznego.\n",
    "\n",
    "Dokumentacja: http://docs.sqlalchemy.org/en/latest/orm/extensions/automap.html\n",
    "Uwaga: http://docs.sqlalchemy.org/en/latest/core/reflection.html"
   ]
  },
  {
   "cell_type": "code",
   "execution_count": 1,
   "metadata": {
    "slideshow": {
     "slide_type": "subslide"
    }
   },
   "outputs": [
    {
     "name": "stdout",
     "output_type": "stream",
     "text": [
      "<class 'sqlalchemy.ext.automap.actor'>\n"
     ]
    }
   ],
   "source": [
    "from sqlalchemy.ext.automap import automap_base\n",
    "from sqlalchemy.orm import Session\n",
    "from sqlalchemy import create_engine\n",
    "\n",
    "Base = automap_base()\n",
    "\n",
    "engine = create_engine(\"sqlite:///sakila.db\")\n",
    "Base.prepare(engine, reflect=True)\n",
    "print(Base.classes.actor)"
   ]
  },
  {
   "cell_type": "code",
   "execution_count": 2,
   "metadata": {
    "slideshow": {
     "slide_type": "subslide"
    }
   },
   "outputs": [
    {
     "name": "stdout",
     "output_type": "stream",
     "text": [
      "Table('actor', MetaData(bind=None), Column('actor_id', INTEGER(), table=<actor>, primary_key=True, nullable=False), Column('first_name', VARCHAR(length=45), table=<actor>, nullable=False), Column('last_name', VARCHAR(length=45), table=<actor>, nullable=False), Column('last_update', TIMESTAMP(), table=<actor>), schema=None)\n"
     ]
    }
   ],
   "source": [
    "print(repr(Base.classes.actor.__table__))"
   ]
  },
  {
   "cell_type": "markdown",
   "metadata": {
    "slideshow": {
     "slide_type": "subslide"
    }
   },
   "source": [
    "Fajnie, pięknie, automat zadziałał."
   ]
  },
  {
   "cell_type": "markdown",
   "metadata": {
    "slideshow": {
     "slide_type": "subslide"
    }
   },
   "source": [
    "Ale my liczyliśmy na pełen kod modeli :(.\n",
    "\n",
    "Coś w styllu: https://pypi.python.org/pypi/sqlacodegen mogłoby nam pomóc.\n",
    "Jednak ten projekt ma ponad 2 lata, a jego repozytorium zostało skasowane :(."
   ]
  },
  {
   "cell_type": "markdown",
   "metadata": {
    "slideshow": {
     "slide_type": "subslide"
    }
   },
   "source": [
    "Do odważnych, świat należy."
   ]
  },
  {
   "cell_type": "markdown",
   "metadata": {
    "slideshow": {
     "slide_type": "subslide"
    }
   },
   "source": [
    "Spróbowałem `sqlacodegen` i \"zadziałało\". Coś zostało wygenerowane i jest dostępne w `auto_generated_sakila_models.py`. Zanim użyjemy automatycznie wygenerowanych modeli wypadałoby je sprawdzić (ręcznie?)."
   ]
  },
  {
   "cell_type": "markdown",
   "metadata": {
    "slideshow": {
     "slide_type": "subslide"
    }
   },
   "source": [
    "Interesują nas głównie modele `Actor` i `Film` wraz z powiązaniami."
   ]
  },
  {
   "cell_type": "code",
   "execution_count": 3,
   "metadata": {
    "slideshow": {
     "slide_type": "skip"
    }
   },
   "outputs": [],
   "source": [
    "# coding: utf-8\n",
    "from sqlalchemy import CheckConstraint, Column, DateTime, ForeignKey, Index, Integer, LargeBinary, Numeric, SmallInteger, String, Table, Text, text\n",
    "from sqlalchemy.orm import relationship\n",
    "from sqlalchemy.sql.sqltypes import NullType\n",
    "from sqlalchemy.ext.declarative import declarative_base\n",
    "\n",
    "\n",
    "Base = declarative_base()\n",
    "metadata = Base.metadata\n",
    "\n",
    "\n",
    "class Actor(Base):\n",
    "    __tablename__ = 'actor'\n",
    "\n",
    "    actor_id = Column(Integer, primary_key=True)\n",
    "    first_name = Column(String(45), nullable=False)\n",
    "    last_name = Column(String(45), nullable=False)\n",
    "    last_update = Column(DateTime)\n",
    "\n",
    "\n",
    "class Addres(Base):\n",
    "    __tablename__ = 'address'\n",
    "\n",
    "    address_id = Column(Integer, primary_key=True)\n",
    "    address = Column(String(50), nullable=False)\n",
    "    address2 = Column(String(50), server_default=text(\"NULL\"))\n",
    "    district = Column(String(20), nullable=False)\n",
    "    city_id = Column(ForeignKey('city.city_id', ondelete='NO ACTION', onupdate='CASCADE'), nullable=False, index=True)\n",
    "    postal_code = Column(String(10), server_default=text(\"NULL\"))\n",
    "    phone = Column(String(20), nullable=False)\n",
    "    last_update = Column(DateTime, nullable=False)\n",
    "\n",
    "    city = relationship('City')\n",
    "\n",
    "\n",
    "class Category(Base):\n",
    "    __tablename__ = 'category'\n",
    "\n",
    "    category_id = Column(SmallInteger, primary_key=True)\n",
    "    name = Column(String(25), nullable=False)\n",
    "    last_update = Column(DateTime, nullable=False)\n",
    "\n",
    "\n",
    "class City(Base):\n",
    "    __tablename__ = 'city'\n",
    "\n",
    "    city_id = Column(Integer, primary_key=True)\n",
    "    city = Column(String(50), nullable=False)\n",
    "    country_id = Column(ForeignKey('country.country_id', ondelete='NO ACTION', onupdate='CASCADE'), nullable=False, index=True)\n",
    "    last_update = Column(DateTime, nullable=False)\n",
    "\n",
    "    country = relationship('Country')\n",
    "\n",
    "    adresses = relationship('Addres')\n",
    "\n",
    "\n",
    "class Country(Base):\n",
    "    __tablename__ = 'country'\n",
    "\n",
    "    country_id = Column(SmallInteger, primary_key=True)\n",
    "    country = Column(String(50), nullable=False)\n",
    "    last_update = Column(DateTime)\n",
    "\n",
    "\n",
    "class Customer(Base):\n",
    "    __tablename__ = 'customer'\n",
    "\n",
    "    customer_id = Column(Integer, primary_key=True)\n",
    "    store_id = Column(ForeignKey('store.store_id', ondelete='NO ACTION', onupdate='CASCADE'), nullable=False, index=True)\n",
    "    first_name = Column(String(45), nullable=False)\n",
    "    last_name = Column(String(45), nullable=False, index=True)\n",
    "    email = Column(String(50), server_default=text(\"NULL\"))\n",
    "    address_id = Column(ForeignKey('address.address_id', ondelete='NO ACTION', onupdate='CASCADE'), nullable=False, index=True)\n",
    "    active = Column(String(1), nullable=False, server_default=text(\"'Y'\"))\n",
    "    create_date = Column(DateTime, nullable=False)\n",
    "    last_update = Column(DateTime, nullable=False)\n",
    "\n",
    "    address = relationship('Addres')\n",
    "    store = relationship('Store')\n",
    "\n",
    "\n",
    "t_customer_list = Table(\n",
    "    'customer_list', metadata,\n",
    "    Column('ID', Integer),\n",
    "    Column('name', NullType),\n",
    "    Column('address', String(50)),\n",
    "    Column('zip_code', String(10)),\n",
    "    Column('phone', String(20)),\n",
    "    Column('city', String(50)),\n",
    "    Column('country', String(50)),\n",
    "    Column('notes', NullType),\n",
    "    Column('SID', Integer)\n",
    ")\n",
    "\n",
    "\n",
    "class Film(Base):\n",
    "    __tablename__ = 'film'\n",
    "    __table_args__ = (\n",
    "        CheckConstraint(\"rating in ('G','PG','PG-13','R','NC-17')\"),\n",
    "    )\n",
    "\n",
    "    film_id = Column(Integer, primary_key=True)\n",
    "    title = Column(String(255), nullable=False)\n",
    "    description = Column(Text, server_default=text(\"NULL\"))\n",
    "    release_year = Column(String(4), server_default=text(\"NULL\"))\n",
    "    language_id = Column(ForeignKey('language.language_id'), nullable=False, index=True)\n",
    "    original_language_id = Column(ForeignKey('language.language_id'), index=True, server_default=text(\"NULL\"))\n",
    "    rental_duration = Column(SmallInteger, nullable=False, server_default=text(\"3\"))\n",
    "    rental_rate = Column(Numeric(4, 2), nullable=False, server_default=text(\"4.99\"))\n",
    "    length = Column(SmallInteger, server_default=text(\"NULL\"))\n",
    "    replacement_cost = Column(Numeric(5, 2), nullable=False, server_default=text(\"19.99\"))\n",
    "    rating = Column(String(10), server_default=text(\"'G'\"))\n",
    "    special_features = Column(String(100), server_default=text(\"NULL\"))\n",
    "    last_update = Column(DateTime, nullable=False)\n",
    "\n",
    "    language = relationship('Language', primaryjoin='Film.language_id == Language.language_id')\n",
    "    original_language = relationship('Language', primaryjoin='Film.original_language_id == Language.language_id')\n",
    "\n",
    "\n",
    "class FilmActor(Base):\n",
    "    __tablename__ = 'film_actor'\n",
    "\n",
    "    actor_id = Column(ForeignKey('actor.actor_id', ondelete='NO ACTION', onupdate='CASCADE'), primary_key=True, nullable=False, index=True)\n",
    "    film_id = Column(ForeignKey('film.film_id', ondelete='NO ACTION', onupdate='CASCADE'), primary_key=True, nullable=False, index=True)\n",
    "    last_update = Column(DateTime, nullable=False)\n",
    "\n",
    "    actor = relationship('Actor')\n",
    "    film = relationship('Film')\n",
    "\n",
    "\n",
    "class FilmCategory(Base):\n",
    "    __tablename__ = 'film_category'\n",
    "\n",
    "    film_id = Column(ForeignKey('film.film_id', ondelete='NO ACTION', onupdate='CASCADE'), primary_key=True, nullable=False, index=True)\n",
    "    category_id = Column(ForeignKey('category.category_id', ondelete='NO ACTION', onupdate='CASCADE'), primary_key=True, nullable=False, index=True)\n",
    "    last_update = Column(DateTime, nullable=False)\n",
    "\n",
    "    category = relationship('Category')\n",
    "    film = relationship('Film')\n",
    "\n",
    "\n",
    "t_film_list = Table(\n",
    "    'film_list', metadata,\n",
    "    Column('FID', Integer),\n",
    "    Column('title', String(255)),\n",
    "    Column('description', Text),\n",
    "    Column('category', String(25)),\n",
    "    Column('price', Numeric(4, 2)),\n",
    "    Column('length', SmallInteger),\n",
    "    Column('rating', String(10)),\n",
    "    Column('actors', NullType)\n",
    ")\n",
    "\n",
    "\n",
    "class FilmText(Base):\n",
    "    __tablename__ = 'film_text'\n",
    "\n",
    "    film_id = Column(SmallInteger, primary_key=True)\n",
    "    title = Column(String(255), nullable=False)\n",
    "    description = Column(Text)\n",
    "\n",
    "\n",
    "class Inventory(Base):\n",
    "    __tablename__ = 'inventory'\n",
    "    __table_args__ = (\n",
    "        Index('idx_fk_film_id_store_id', 'store_id', 'film_id'),\n",
    "    )\n",
    "\n",
    "    inventory_id = Column(Integer, primary_key=True)\n",
    "    film_id = Column(ForeignKey('film.film_id', ondelete='NO ACTION', onupdate='CASCADE'), nullable=False, index=True)\n",
    "    store_id = Column(ForeignKey('store.store_id', ondelete='NO ACTION', onupdate='CASCADE'), nullable=False)\n",
    "    last_update = Column(DateTime, nullable=False)\n",
    "\n",
    "    film = relationship('Film')\n",
    "    store = relationship('Store')\n",
    "\n",
    "\n",
    "class Language(Base):\n",
    "    __tablename__ = 'language'\n",
    "\n",
    "    language_id = Column(SmallInteger, primary_key=True)\n",
    "    name = Column(String(20), nullable=False)\n",
    "    last_update = Column(DateTime, nullable=False)\n",
    "\n",
    "\n",
    "class Payment(Base):\n",
    "    __tablename__ = 'payment'\n",
    "\n",
    "    payment_id = Column(Integer, primary_key=True)\n",
    "    customer_id = Column(ForeignKey('customer.customer_id'), nullable=False, index=True)\n",
    "    staff_id = Column(ForeignKey('staff.staff_id'), nullable=False, index=True)\n",
    "    rental_id = Column(ForeignKey('rental.rental_id', ondelete='SET NULL', onupdate='CASCADE'), server_default=text(\"NULL\"))\n",
    "    amount = Column(Numeric(5, 2), nullable=False)\n",
    "    payment_date = Column(DateTime, nullable=False)\n",
    "    last_update = Column(DateTime, nullable=False)\n",
    "\n",
    "    customer = relationship('Customer')\n",
    "    rental = relationship('Rental')\n",
    "    staff = relationship('Staff')\n",
    "\n",
    "\n",
    "class Rental(Base):\n",
    "    __tablename__ = 'rental'\n",
    "    __table_args__ = (\n",
    "        Index('idx_rental_uq', 'rental_date', 'inventory_id', 'customer_id', unique=True),\n",
    "    )\n",
    "\n",
    "    rental_id = Column(Integer, primary_key=True)\n",
    "    rental_date = Column(DateTime, nullable=False)\n",
    "    inventory_id = Column(ForeignKey('inventory.inventory_id'), nullable=False, index=True)\n",
    "    customer_id = Column(ForeignKey('customer.customer_id'), nullable=False, index=True)\n",
    "    return_date = Column(DateTime, server_default=text(\"NULL\"))\n",
    "    staff_id = Column(ForeignKey('staff.staff_id'), nullable=False, index=True)\n",
    "    last_update = Column(DateTime, nullable=False)\n",
    "\n",
    "    customer = relationship('Customer')\n",
    "    inventory = relationship('Inventory')\n",
    "    staff = relationship('Staff')\n",
    "\n",
    "\n",
    "t_sales_by_film_category = Table(\n",
    "    'sales_by_film_category', metadata,\n",
    "    Column('category', String(25)),\n",
    "    Column('total_sales', NullType)\n",
    ")\n",
    "\n",
    "\n",
    "t_sales_by_store = Table(\n",
    "    'sales_by_store', metadata,\n",
    "    Column('store_id', Integer),\n",
    "    Column('store', NullType),\n",
    "    Column('manager', NullType),\n",
    "    Column('total_sales', NullType)\n",
    ")\n",
    "\n",
    "\n",
    "t_sqlite_sequence = Table(\n",
    "    'sqlite_sequence', metadata,\n",
    "    Column('name', NullType),\n",
    "    Column('seq', NullType)\n",
    ")\n",
    "\n",
    "\n",
    "class Staff(Base):\n",
    "    __tablename__ = 'staff'\n",
    "\n",
    "    staff_id = Column(SmallInteger, primary_key=True)\n",
    "    first_name = Column(String(45), nullable=False)\n",
    "    last_name = Column(String(45), nullable=False)\n",
    "    address_id = Column(ForeignKey('address.address_id', ondelete='NO ACTION', onupdate='CASCADE'), nullable=False, index=True)\n",
    "    picture = Column(LargeBinary, server_default=text(\"NULL\"))\n",
    "    email = Column(String(50), server_default=text(\"NULL\"))\n",
    "    store_id = Column(ForeignKey('store.store_id', ondelete='NO ACTION', onupdate='CASCADE'), nullable=False, index=True)\n",
    "    active = Column(SmallInteger, nullable=False, server_default=text(\"1\"))\n",
    "    username = Column(String(16), nullable=False)\n",
    "    password = Column(String(40), server_default=text(\"NULL\"))\n",
    "    last_update = Column(DateTime, nullable=False)\n",
    "\n",
    "    address = relationship('Addres')\n",
    "    store = relationship('Store', primaryjoin='Staff.store_id == Store.store_id')\n",
    "\n",
    "\n",
    "t_staff_list = Table(\n",
    "    'staff_list', metadata,\n",
    "    Column('ID', SmallInteger),\n",
    "    Column('name', NullType),\n",
    "    Column('address', String(50)),\n",
    "    Column('zip_code', String(10)),\n",
    "    Column('phone', String(20)),\n",
    "    Column('city', String(50)),\n",
    "    Column('country', String(50)),\n",
    "    Column('SID', Integer)\n",
    ")\n",
    "\n",
    "\n",
    "class Store(Base):\n",
    "    __tablename__ = 'store'\n",
    "\n",
    "    store_id = Column(Integer, primary_key=True)\n",
    "    manager_staff_id = Column(ForeignKey('staff.staff_id'), nullable=False, index=True)\n",
    "    address_id = Column(ForeignKey('address.address_id'), nullable=False, index=True)\n",
    "    last_update = Column(DateTime, nullable=False)\n",
    "\n",
    "    address = relationship('Addres')\n",
    "    manager_staff = relationship('Staff', primaryjoin='Store.manager_staff_id == Staff.staff_id')\n"
   ]
  },
  {
   "cell_type": "markdown",
   "metadata": {
    "slideshow": {
     "slide_type": "subslide"
    }
   },
   "source": [
    "## Relacje"
   ]
  },
  {
   "cell_type": "markdown",
   "metadata": {
    "slideshow": {
     "slide_type": "subslide"
    }
   },
   "source": [
    "* `relationship`: http://docs.sqlalchemy.org/en/latest/orm/relationships.html\n",
    "* `backref`: http://docs.sqlalchemy.org/en/latest/orm/backref.html\n",
    "* Jak się dostać do obiektów powiązanych.\n",
    "* Czy odwołania do obiektów powiązanych kosztują?"
   ]
  },
  {
   "cell_type": "markdown",
   "metadata": {
    "slideshow": {
     "slide_type": "subslide"
    }
   },
   "source": [
    "## jeden-do-jeden"
   ]
  },
  {
   "cell_type": "markdown",
   "metadata": {
    "slideshow": {
     "slide_type": "subslide"
    }
   },
   "source": [
    "http://docs.sqlalchemy.org/en/latest/orm/basic_relationships.html#one-to-one"
   ]
  },
  {
   "cell_type": "markdown",
   "metadata": {
    "slideshow": {
     "slide_type": "subslide"
    }
   },
   "source": [
    "## jeden-do-wielu"
   ]
  },
  {
   "cell_type": "markdown",
   "metadata": {
    "slideshow": {
     "slide_type": "subslide"
    }
   },
   "source": [
    "http://docs.sqlalchemy.org/en/latest/orm/basic_relationships.html#one-to-many"
   ]
  },
  {
   "cell_type": "markdown",
   "metadata": {
    "slideshow": {
     "slide_type": "subslide"
    }
   },
   "source": [
    "## wiele-do-wielu"
   ]
  },
  {
   "cell_type": "markdown",
   "metadata": {
    "slideshow": {
     "slide_type": "subslide"
    }
   },
   "source": [
    "http://docs.sqlalchemy.org/en/latest/orm/basic_relationships.html#many-to-many"
   ]
  },
  {
   "cell_type": "markdown",
   "metadata": {
    "slideshow": {
     "slide_type": "notes"
    }
   },
   "source": [
    "Pokazać relację `Country` - `City`"
   ]
  },
  {
   "cell_type": "markdown",
   "metadata": {
    "slideshow": {
     "slide_type": "subslide"
    }
   },
   "source": [
    "# 6. Querowanie"
   ]
  },
  {
   "cell_type": "markdown",
   "metadata": {
    "slideshow": {
     "slide_type": "subslide"
    }
   },
   "source": [
    "Czyli pobieranie danych z bazy."
   ]
  },
  {
   "cell_type": "markdown",
   "metadata": {
    "slideshow": {
     "slide_type": "subslide"
    }
   },
   "source": [
    "Musimy mieć jakieś \"połączenie\" do bazy danych."
   ]
  },
  {
   "cell_type": "markdown",
   "metadata": {
    "slideshow": {
     "slide_type": "fragment"
    }
   },
   "source": [
    "Potrzebujemuy sesji: http://docs.sqlalchemy.org/en/latest/orm/session.html"
   ]
  },
  {
   "cell_type": "code",
   "execution_count": 4,
   "metadata": {
    "slideshow": {
     "slide_type": "subslide"
    }
   },
   "outputs": [],
   "source": [
    "from sqlalchemy.orm import sessionmaker\n",
    "\n",
    "engine = create_engine('sqlite:///sakila.db')\n",
    "Session = sessionmaker(bind=engine)\n",
    "session = Session()"
   ]
  },
  {
   "cell_type": "code",
   "execution_count": 5,
   "metadata": {
    "slideshow": {
     "slide_type": "subslide"
    }
   },
   "outputs": [],
   "source": [
    "# Pobranie wszystkich aktorów z bazy\n",
    "all_actors = session.query(Actor)"
   ]
  },
  {
   "cell_type": "code",
   "execution_count": 6,
   "metadata": {
    "slideshow": {
     "slide_type": "subslide"
    }
   },
   "outputs": [
    {
     "name": "stdout",
     "output_type": "stream",
     "text": [
      "SELECT actor.actor_id AS actor_actor_id, actor.first_name AS actor_first_name, actor.last_name AS actor_last_name, actor.last_update AS actor_last_update \n",
      "FROM actor\n"
     ]
    }
   ],
   "source": [
    "print(all_actors)"
   ]
  },
  {
   "cell_type": "code",
   "execution_count": 7,
   "metadata": {
    "slideshow": {
     "slide_type": "subslide"
    }
   },
   "outputs": [
    {
     "name": "stdout",
     "output_type": "stream",
     "text": [
      "<class 'sqlalchemy.orm.query.Query'>\n"
     ]
    }
   ],
   "source": [
    "print(type(all_actors))"
   ]
  },
  {
   "cell_type": "markdown",
   "metadata": {
    "slideshow": {
     "slide_type": "subslide"
    }
   },
   "source": [
    "Coś \"nie pykło\"."
   ]
  },
  {
   "cell_type": "markdown",
   "metadata": {
    "slideshow": {
     "slide_type": "subslide"
    }
   },
   "source": [
    "* Czym jest `Query`: http://docs.sqlalchemy.org/en/latest/orm/query.html#sqlalchemy.orm.query.Query"
   ]
  },
  {
   "cell_type": "code",
   "execution_count": 8,
   "metadata": {
    "slideshow": {
     "slide_type": "subslide"
    }
   },
   "outputs": [
    {
     "name": "stdout",
     "output_type": "stream",
     "text": [
      "139872189543704\n",
      "139871952354608\n",
      "SELECT actor.actor_id AS actor_actor_id, actor.first_name AS actor_first_name, actor.last_name AS actor_last_name, actor.last_update AS actor_last_update \n",
      "FROM actor \n",
      "WHERE actor.first_name = ?\n"
     ]
    }
   ],
   "source": [
    "# eksperymentujemy dalej\n",
    "all_penelopes = all_actors.filter(Actor.first_name == 'PENELOPE')\n",
    "print(id(all_actors))\n",
    "print(id(all_penelopes))\n",
    "print(all_penelopes)"
   ]
  },
  {
   "cell_type": "code",
   "execution_count": 9,
   "metadata": {
    "slideshow": {
     "slide_type": "subslide"
    }
   },
   "outputs": [
    {
     "name": "stdout",
     "output_type": "stream",
     "text": [
      "PENELOPE GUINESS\n",
      "PENELOPE PINKETT\n",
      "PENELOPE CRONYN\n",
      "PENELOPE MONROE\n"
     ]
    }
   ],
   "source": [
    "for penelope in all_penelopes:\n",
    "    print('{} {}'.format(penelope.first_name, penelope.last_name))"
   ]
  },
  {
   "cell_type": "code",
   "execution_count": 10,
   "metadata": {
    "slideshow": {
     "slide_type": "subslide"
    }
   },
   "outputs": [
    {
     "name": "stdout",
     "output_type": "stream",
     "text": [
      "[<__main__.Actor object at 0x7f367a08bd68>, <__main__.Actor object at 0x7f367a08bf98>, <__main__.Actor object at 0x7f367a08b908>, <__main__.Actor object at 0x7f367a09cba8>]\n"
     ]
    }
   ],
   "source": [
    "print(all_penelopes.all())"
   ]
  },
  {
   "cell_type": "markdown",
   "metadata": {
    "slideshow": {
     "slide_type": "slide"
    }
   },
   "source": [
    "# 7. Wkładanie danych do bazy"
   ]
  },
  {
   "cell_type": "code",
   "execution_count": 11,
   "metadata": {
    "slideshow": {
     "slide_type": "subslide"
    }
   },
   "outputs": [],
   "source": [
    "marcin = Actor(\n",
    "    first_name='Marcin',\n",
    "    last_name='Jaroszewski'\n",
    ")"
   ]
  },
  {
   "cell_type": "code",
   "execution_count": 12,
   "metadata": {
    "slideshow": {
     "slide_type": "subslide"
    }
   },
   "outputs": [
    {
     "name": "stdout",
     "output_type": "stream",
     "text": [
      "<__main__.Actor object at 0x7f367a09ce10>\n"
     ]
    }
   ],
   "source": [
    "marcin_q = session.query(Actor).filter(Actor.last_name == 'Jaroszewski').first()\n",
    "print(marcin_q)"
   ]
  },
  {
   "cell_type": "markdown",
   "metadata": {
    "slideshow": {
     "slide_type": "subslide"
    }
   },
   "source": [
    "Ja chcę robić karierę na srebnym ekranie!\n",
    "\n",
    "Dlaczego nie ma mnie w bazie aktorów?"
   ]
  },
  {
   "cell_type": "code",
   "execution_count": 13,
   "metadata": {
    "slideshow": {
     "slide_type": "subslide"
    }
   },
   "outputs": [
    {
     "name": "stdout",
     "output_type": "stream",
     "text": [
      "207 Marcin Jaroszewski None\n"
     ]
    }
   ],
   "source": [
    "marcin = Actor(\n",
    "    first_name='Marcin',\n",
    "    last_name='Jaroszewski'\n",
    ")\n",
    "session.add(marcin)\n",
    "session.commit()\n",
    "print(marcin.actor_id, marcin.first_name, marcin.last_name, marcin.last_update)"
   ]
  },
  {
   "cell_type": "code",
   "execution_count": 14,
   "metadata": {
    "slideshow": {
     "slide_type": "subslide"
    }
   },
   "outputs": [
    {
     "name": "stdout",
     "output_type": "stream",
     "text": [
      "<__main__.Actor object at 0x7f367a09ce10>\n",
      "206 MARCIN Jaroszewski None\n"
     ]
    }
   ],
   "source": [
    "marcin_q = session.query(Actor).filter(Actor.last_name == 'Jaroszewski').first()\n",
    "print(marcin_q)\n",
    "print(marcin_q.actor_id, marcin_q.first_name, marcin_q.last_name, marcin_q.last_update)"
   ]
  },
  {
   "cell_type": "markdown",
   "metadata": {
    "slideshow": {
     "slide_type": "slide"
    }
   },
   "source": [
    "# 8. Zmienianie danych w bazie"
   ]
  },
  {
   "cell_type": "code",
   "execution_count": 15,
   "metadata": {
    "slideshow": {
     "slide_type": "subslide"
    }
   },
   "outputs": [],
   "source": [
    "marcin_q.first_name = 'MARCIN'\n",
    "session.commit()"
   ]
  },
  {
   "cell_type": "code",
   "execution_count": 16,
   "metadata": {
    "slideshow": {
     "slide_type": "subslide"
    }
   },
   "outputs": [
    {
     "name": "stdout",
     "output_type": "stream",
     "text": [
      "<__main__.Actor object at 0x7f367a09ce10>\n",
      "206 MARCIN Jaroszewski None\n"
     ]
    }
   ],
   "source": [
    "marcin_q = session.query(Actor).filter(Actor.last_name == 'Jaroszewski').first()\n",
    "print(marcin_q)\n",
    "print(marcin_q.actor_id, marcin_q.first_name, marcin_q.last_name, marcin_q.last_update)"
   ]
  },
  {
   "cell_type": "markdown",
   "metadata": {
    "slideshow": {
     "slide_type": "slide"
    }
   },
   "source": [
    "# Pytania"
   ]
  },
  {
   "cell_type": "markdown",
   "metadata": {
    "slideshow": {
     "slide_type": "subslide"
    }
   },
   "source": [
    "## Co sprawia, że zapytanie zostanie wykonane?"
   ]
  },
  {
   "cell_type": "markdown",
   "metadata": {
    "slideshow": {
     "slide_type": "fragment"
    }
   },
   "source": [
    "* `all()`: http://docs.sqlalchemy.org/en/latest/orm/query.html#sqlalchemy.orm.query.Query.all\n",
    "* `first()`: http://docs.sqlalchemy.org/en/latest/orm/query.html#sqlalchemy.orm.query.Query.first\n",
    "* `one()`: http://docs.sqlalchemy.org/en/latest/orm/query.html#sqlalchemy.orm.query.Query.one\n",
    "* `one_or_none`: http://docs.sqlalchemy.org/en/latest/orm/query.html#sqlalchemy.orm.query.Query.one_or_none\n",
    "* `scalar`: http://docs.sqlalchemy.org/en/latest/orm/query.html#sqlalchemy.orm.query.Query.scalar\n",
    "* iterowanie po wynikach"
   ]
  },
  {
   "cell_type": "markdown",
   "metadata": {
    "slideshow": {
     "slide_type": "subslide"
    }
   },
   "source": [
    "## Czym jest transakcja?"
   ]
  },
  {
   "cell_type": "markdown",
   "metadata": {
    "slideshow": {
     "slide_type": "fragment"
    }
   },
   "source": [
    "http://docs.sqlalchemy.org/en/latest/core/connections.html#sqlalchemy.engine.Transaction"
   ]
  },
  {
   "cell_type": "markdown",
   "metadata": {
    "slideshow": {
     "slide_type": "subslide"
    }
   },
   "source": [
    "## Co robi flush?"
   ]
  },
  {
   "cell_type": "markdown",
   "metadata": {
    "slideshow": {
     "slide_type": "fragment"
    }
   },
   "source": [
    "http://docs.sqlalchemy.org/en/latest/orm/session_api.html#sqlalchemy.orm.session.Session.flush"
   ]
  },
  {
   "cell_type": "markdown",
   "metadata": {
    "slideshow": {
     "slide_type": "subslide"
    }
   },
   "source": [
    "## Co to commit?"
   ]
  },
  {
   "cell_type": "markdown",
   "metadata": {
    "slideshow": {
     "slide_type": "fragment"
    }
   },
   "source": [
    "http://docs.sqlalchemy.org/en/latest/orm/session_api.html#sqlalchemy.orm.session.Session.commit"
   ]
  },
  {
   "cell_type": "markdown",
   "metadata": {
    "slideshow": {
     "slide_type": "subslide"
    }
   },
   "source": [
    "## Co to rollback?"
   ]
  },
  {
   "cell_type": "markdown",
   "metadata": {
    "slideshow": {
     "slide_type": "fragment"
    }
   },
   "source": [
    "http://docs.sqlalchemy.org/en/latest/orm/session_api.html#sqlalchemy.orm.session.Session.rollback"
   ]
  },
  {
   "cell_type": "markdown",
   "metadata": {
    "slideshow": {
     "slide_type": "subslide"
    }
   },
   "source": [
    "## Jak się bronić przed \"popsutymi\" transakcjami?"
   ]
  },
  {
   "cell_type": "markdown",
   "metadata": {
    "slideshow": {
     "slide_type": "fragment"
    }
   },
   "source": [
    "* `try ... except ...`\n",
    "* `contextmanager`"
   ]
  },
  {
   "cell_type": "markdown",
   "metadata": {
    "slideshow": {
     "slide_type": "slide"
    }
   },
   "source": [
    "# 9. SQLAlchemy i Flask"
   ]
  },
  {
   "cell_type": "markdown",
   "metadata": {
    "slideshow": {
     "slide_type": "subslide"
    }
   },
   "source": [
    "Flask ma wtyczkę usprawniającą działanie z SQLAlchemy: http://flask-sqlalchemy.pocoo.org\n",
    "\n",
    "Ale nie będziemy jej dziś używać - nie chcę zaciemniać obrazu."
   ]
  },
  {
   "cell_type": "markdown",
   "metadata": {
    "slideshow": {
     "slide_type": "slide"
    }
   },
   "source": [
    "# 10. Jak to w życiu bywa"
   ]
  }
 ],
 "metadata": {
  "celltoolbar": "Slideshow",
  "kernelspec": {
   "display_name": "Python 3",
   "language": "python",
   "name": "python3"
  },
  "language_info": {
   "codemirror_mode": {
    "name": "ipython",
    "version": 3
   },
   "file_extension": ".py",
   "mimetype": "text/x-python",
   "name": "python",
   "nbconvert_exporter": "python",
   "pygments_lexer": "ipython3",
   "version": "3.6.5"
  }
 },
 "nbformat": 4,
 "nbformat_minor": 2
}
