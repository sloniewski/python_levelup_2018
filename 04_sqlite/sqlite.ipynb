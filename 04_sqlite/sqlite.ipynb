{
 "cells": [
  {
   "cell_type": "markdown",
   "metadata": {
    "slideshow": {
     "slide_type": "slide"
    }
   },
   "source": [
    "# SELECT Python\n",
    "## SQLite w Pythonie\n",
    "### Jakub Szponder\n",
    "#### Python Level Up, 29.03.2018"
   ]
  },
  {
   "cell_type": "markdown",
   "metadata": {
    "slideshow": {
     "slide_type": "subslide"
    }
   },
   "source": [
    "![Logo kursu Python Level Up](https://raw.githubusercontent.com/daftcode/python_levelup_2018/master/logo.png)"
   ]
  },
  {
   "cell_type": "markdown",
   "metadata": {
    "slideshow": {
     "slide_type": "subslide"
    }
   },
   "source": [
    "![Plan zajęć](https://raw.githubusercontent.com/daftcode/python_levelup_2018/master/plan_zajec.png)"
   ]
  },
  {
   "cell_type": "markdown",
   "metadata": {
    "slideshow": {
     "slide_type": "slide"
    }
   },
   "source": [
    "# Baza danych\n",
    "- zbiór danych zapisanych zgodnie z ustalonymi regułami"
   ]
  },
  {
   "cell_type": "markdown",
   "metadata": {
    "slideshow": {
     "slide_type": "subslide"
    }
   },
   "source": [
    "# Systemy zarządzania bazą danych (DBMS)\n",
    "- oprogramowanie służące do tworzenia i zarządzania bazami danych\n",
    "- sposób trzymania danych jest zależny od konkretnego systemu"
   ]
  },
  {
   "cell_type": "markdown",
   "metadata": {
    "slideshow": {
     "slide_type": "subslide"
    }
   },
   "source": [
    "# SQL\n",
    "- język służący do interakcji z __relacyjnymi bazami danych__\n",
    "- (prawie) wszystkie relacyjne __DBMS__ wykorzystują __SQL__ jako podstawowy język zapytań\n",
    "\n",
    "- fajny tutorial: https://sqlbolt.com/"
   ]
  },
  {
   "cell_type": "markdown",
   "metadata": {
    "slideshow": {
     "slide_type": "subslide"
    }
   },
   "source": [
    "# Przykłady relacyjnych systemów zarządzania bazą danych\n",
    "- PostgreSQL (open source)\n",
    "- MySQL (open source)\n",
    "- SQLite (open source)\n",
    "- Oracle\n",
    "- Microsoft SQL Server\n",
    "- IBM DB2\n",
    "- Microsoft Access"
   ]
  },
  {
   "cell_type": "markdown",
   "metadata": {
    "slideshow": {
     "slide_type": "subslide"
    }
   },
   "source": [
    "# SQLite\n",
    "- nie ma prawie żadnych zależności, działa na każdym systemie operacyjnym\n",
    "- nie ma potrzeby uruchamiać żadnego serwera bazy danych\n",
    "- nie wymaga żadnej dodatkowej konfiguracji\n",
    "- najczęście używana baza danych na świecie https://www.sqlite.org/mostdeployed.html\n",
    "- cała baza danych zapisana jest w jednym pliku (cross-platform)\n",
    "- obsługuje transakcje"
   ]
  },
  {
   "cell_type": "markdown",
   "metadata": {
    "slideshow": {
     "slide_type": "slide"
    }
   },
   "source": [
    "# Jak wygląda SQLowa baza danych\n",
    "![cala_baza.png](https://github.com/daftcode/python_levelup_2018/blob/master/04_sqlite/cala_baza.png?raw=true)"
   ]
  },
  {
   "cell_type": "markdown",
   "metadata": {
    "slideshow": {
     "slide_type": "slide"
    }
   },
   "source": [
    "# My się zajmiemy trochę mniejszym wycinkiem...\n",
    "![nasza_baza.png](https://github.com/daftcode/python_levelup_2018/blob/master/04_sqlite/nasza_baza.png?raw=true)"
   ]
  },
  {
   "cell_type": "markdown",
   "metadata": {
    "slideshow": {
     "slide_type": "slide"
    }
   },
   "source": [
    "# Tabela\n",
    "- w bazie danych obiekt, który zawiera dane\n",
    "- tabela składa się z wierszy i kolumn\n",
    "- każda kolumna reprezentuje jakąś właściwość\n",
    "- każdy wiersz reprezentuje pojedynczy rekord"
   ]
  },
  {
   "cell_type": "markdown",
   "metadata": {
    "slideshow": {
     "slide_type": "subslide"
    }
   },
   "source": [
    "# Kolumna\n",
    "- właściwość rekordu (np. imię, nazwisko, identyfikator itp.)\n",
    "\n",
    "## Ma określony typ\n",
    "- NULL\n",
    "- INTEGER\n",
    "- REAL\n",
    "- TEXT\n",
    "- BLOB"
   ]
  },
  {
   "cell_type": "markdown",
   "metadata": {
    "slideshow": {
     "slide_type": "subslide"
    }
   },
   "source": [
    "# NULL\n",
    "- specjalny znacznik, który mówi o tym, że dana wartość nie jest ustawiona"
   ]
  },
  {
   "cell_type": "markdown",
   "metadata": {
    "slideshow": {
     "slide_type": "subslide"
    }
   },
   "source": [
    "# PK - Primary Key\n",
    "- klucz główny dla tabeli\n",
    "- unikalny\n",
    "- posiada index\n",
    "- maksymalnie jeden"
   ]
  },
  {
   "cell_type": "markdown",
   "metadata": {
    "slideshow": {
     "slide_type": "subslide"
    }
   },
   "source": [
    "# FK - Foreign Key\n",
    "- klucz obcy\n",
    "- wartość z pola z rekordu z innej tabeli, do którego \"linkujemy\"\n",
    "- musi być jednoznaczne\n",
    "- bardzo często PK innej tabeli"
   ]
  },
  {
   "cell_type": "markdown",
   "metadata": {
    "slideshow": {
     "slide_type": "subslide"
    }
   },
   "source": [
    "# Index\n",
    "- zakłada się go na wybranej kolumnie (lub kilku)\n",
    "- specjalna struktura danych, która umożliwia szybsze przeszukiwanie danych na podstawie danej kolumny\n",
    "- w SQLite (i wielu innych bazach danych) zaimplementowane na B-drzewach https://pl.wikipedia.org/wiki/B-drzewo\n",
    "\n",
    "więcej o indeksach w SQLicie: http://www.sqlitetutorial.net/sqlite-index/"
   ]
  },
  {
   "cell_type": "markdown",
   "metadata": {
    "slideshow": {
     "slide_type": "subslide"
    }
   },
   "source": [
    "# Relacje pomiędzy tabelami\n",
    "- one-to-one\n",
    "- one-to-many\n",
    "- many-to-many"
   ]
  },
  {
   "cell_type": "markdown",
   "metadata": {
    "slideshow": {
     "slide_type": "subslide"
    }
   },
   "source": [
    "# sqlite3 w Pythonie\n",
    "\n",
    "```python\n",
    "import sqlite3\n",
    "conn = sqlite3.connect('/path/to/database.db')\n",
    "conn.close()\n",
    "```\n",
    "\n",
    "więcej https://docs.python.org/3/library/sqlite3.html#connection-objects"
   ]
  },
  {
   "cell_type": "markdown",
   "metadata": {
    "slideshow": {
     "slide_type": "slide"
    }
   },
   "source": [
    "# Sakila\n",
    "Przykładowa baza danych stworzona przez zespół odpowiedzialny za MySQL\n",
    "\n",
    "https://dev.mysql.com/doc/sakila/en/sakila-introduction.html\n",
    "\n",
    "Pobieramy to: https://github.com/jOOQ/jOOQ/raw/master/jOOQ-examples/Sakila/sqlite-sakila-db/sqlite-sakila-schema.sql\n",
    "\n",
    "I to: https://github.com/jOOQ/jOOQ/raw/master/jOOQ-examples/Sakila/sqlite-sakila-db/sqlite-sakila-insert-data.sql\n",
    "\n",
    "a następnie wykonujemy:"
   ]
  },
  {
   "cell_type": "code",
   "execution_count": null,
   "metadata": {
    "slideshow": {
     "slide_type": "fragment"
    }
   },
   "outputs": [],
   "source": [
    "import sqlite3\n",
    "\n",
    "conn = sqlite3.connect('/path/to/database.db')\n",
    "c = conn.cursor()\n",
    "\n",
    "with open('sqlite-sakila-schema.sql', 'r', encoding='utf-8') as create_file:\n",
    "    create_query = create_file.read()\n",
    "with open('sqlite-sakila-insert-data.sql', 'r', encoding='utf-8') as insert_file:\n",
    "    insert_query = insert_file.read()\n",
    "\n",
    "c.executescript(create_query)\n",
    "c.executescript(insert_query)\n",
    "\n",
    "conn.commit()\n",
    "conn.close()"
   ]
  },
  {
   "cell_type": "markdown",
   "metadata": {},
   "source": [
    "- Skrypt z insertami wolno działa? http://www.sqlite.org/faq.html#q19\n",
    "- Rozwiązanie: http://www.sqlite.org/lang_transaction.html\n",
    "\n",
    "\n",
    "- bez BEGIN TRANSACTION; .. COMMIT; - 2h10min\n",
    "- z BEGIN TRANSACTION; .. COMMIT; - kilkanaście sekund"
   ]
  },
  {
   "cell_type": "markdown",
   "metadata": {
    "slideshow": {
     "slide_type": "subslide"
    }
   },
   "source": [
    "- tworzymy obiekt __Cursor__, który umożliwia nam wykonywanie poleceń na bazie\n",
    "- możemy na nim wykonywać operacje za pomocą metod __execute__ (jedna operacja), __executemany__ (jeden rodzaj operacji z wieloma różnymi parametrami) lub __executescript__ (ciąg operacji)\n",
    "\n",
    "więcej: https://docs.python.org/3/library/sqlite3.html#cursor-objects"
   ]
  },
  {
   "cell_type": "markdown",
   "metadata": {
    "slideshow": {
     "slide_type": "subslide"
    }
   },
   "source": [
    "Tego możemy używać do przeglądania naszej bazy danych: http://sqlitebrowser.org/"
   ]
  },
  {
   "cell_type": "markdown",
   "metadata": {
    "slideshow": {
     "slide_type": "subslide"
    }
   },
   "source": [
    "# Dlaczego będziemy odpalać gołe SQL-ki?\n",
    "- znajomość SQL jest kluczowa w pracy programisty\n",
    "- ORM nie zawsze jest w stanie załatwić skomplikowane przypadku\n",
    "- dobrze jest wiedzieć co się dzieje \"pod spodem\" ORMa\n",
    "- znajomość SQLa ułatwia debugowanie problemów związanych z bazami danych"
   ]
  },
  {
   "cell_type": "markdown",
   "metadata": {
    "slideshow": {
     "slide_type": "slide"
    }
   },
   "source": [
    "# Dostęp do bazy danych w aplikacji we Flasku\n",
    "\n",
    "Połączenie do bazy danych tworzymy i trzymamy kontekście aplikacji, zamykamy połączenie przy niszczeniu kontekstu."
   ]
  },
  {
   "cell_type": "code",
   "execution_count": null,
   "metadata": {
    "slideshow": {
     "slide_type": "fragment"
    }
   },
   "outputs": [],
   "source": [
    "# http://flask.pocoo.org/docs/0.12/patterns/sqlite3/\n",
    "import sqlite3\n",
    "from flask import g\n",
    "\n",
    "DATABASE = '/path/to/database.db'\n",
    "\n",
    "def get_db():\n",
    "    db = getattr(g, '_database', None)\n",
    "    if db is None:\n",
    "        db = g._database = sqlite3.connect(DATABASE)\n",
    "    return db\n",
    "\n",
    "@app.teardown_appcontext\n",
    "def close_connection(exception):\n",
    "    db = getattr(g, '_database', None)\n",
    "    if db is not None:\n",
    "        db.close()"
   ]
  },
  {
   "cell_type": "markdown",
   "metadata": {
    "slideshow": {
     "slide_type": "slide"
    }
   },
   "source": [
    "# SELECT\n",
    "\n",
    "Pobieranie konkretnych pól z wybranej tabeli:\n",
    "```sql\n",
    "SELECT {lista_pól} FROM {nazwa_tabeli};\n",
    "```\n",
    "\n",
    "np.\n",
    "\n",
    "```sql\n",
    "SELECT first_name, last_name FROM actor;\n",
    "```\n",
    "\n",
    "Pobieranie wszystkich pól z wybranej tabeli:\n",
    "```sql\n",
    "SELECT * FROM {nazwa_tabeli};\n",
    "```\n",
    "\n",
    "np.\n",
    "\n",
    "```sql\n",
    "SELECT * FROM actor;\n",
    "```"
   ]
  },
  {
   "cell_type": "markdown",
   "metadata": {
    "slideshow": {
     "slide_type": "subslide"
    }
   },
   "source": [
    "## Przykład 1\n",
    "Stworzyć widok listy tytułów filmów `/films`, z wykorzystaniem szablonu:\n",
    "```html\n",
    "<!DOCTYPE html>\n",
    "<html lang=\"en\">\n",
    "<head>\n",
    "  <meta charset=\"UTF-8\">\n",
    "  <title>Films</title>\n",
    "</head>\n",
    "<body>\n",
    "  <ul>\n",
    "    Nazwa\n",
    "    {% for film in films %}\n",
    "      <li>{{ film[0] }}</li>\n",
    "    {% endfor %}\n",
    "  </ul>\n",
    "</body>\n",
    "</html>\n",
    "```"
   ]
  },
  {
   "cell_type": "markdown",
   "metadata": {
    "slideshow": {
     "slide_type": "subslide"
    }
   },
   "source": [
    "Wszystkie przykłady są zdeployowane tu: https://python-level-up-2018-sqlite.herokuapp.com/"
   ]
  },
  {
   "cell_type": "code",
   "execution_count": null,
   "metadata": {
    "slideshow": {
     "slide_type": "subslide"
    }
   },
   "outputs": [],
   "source": [
    "@app.route('/films')\n",
    "def films_list():\n",
    "    db = get_db()\n",
    "    cursor = db.cursor()\n",
    "    data = cursor.execute('SELECT title FROM film').fetchall()\n",
    "    cursor.close()\n",
    "    return render_template('films.html', films=data)"
   ]
  },
  {
   "cell_type": "markdown",
   "metadata": {
    "slideshow": {
     "slide_type": "slide"
    }
   },
   "source": [
    "# Pobieranie wyników zapytań\n",
    "- __fetchall__ - zwraca listę wyników \n",
    "- __fetchone__ - zwraca jeden (następny) wynik, jeżeli nie ma to `None`\n",
    "- __fetchmany__(size=cursor.arraysize) - zwraca listę max `size` wyników, w przypadku braku wyników pusta lista\n",
    "\n",
    "\n",
    "- domyślny cursor.arraysize to 1"
   ]
  },
  {
   "cell_type": "markdown",
   "metadata": {
    "slideshow": {
     "slide_type": "subslide"
    }
   },
   "source": [
    "# Typy w wyniku\n",
    "- domyślnie wiersz przedstawiony jest jako `tuple` wartości poszczególnych kolumn\n",
    "- kolumny \"zachowują\" swój typ z bazy danych zgodnie z tabelą https://docs.python.org/3/library/sqlite3.html#sqlite-and-python-types"
   ]
  },
  {
   "cell_type": "markdown",
   "metadata": {
    "slideshow": {
     "slide_type": "subslide"
    }
   },
   "source": [
    "Do wyników możemy dostać się też w wygodniejszy sposób, wykorzystując nazwy kolumn\n",
    "\n",
    "ustawiamy na połączeniu `row_factory`\n",
    "```python\n",
    "db.row_factory = sqlite3.Row\n",
    "```\n",
    "\n",
    "Dzięki temu do tytułu filmu możemy dostać się za pomocą `film['title']` zamiast `film[0]`\n",
    "\n",
    "Możliwe jest też zdefiniowanie własnych `row_factory` https://docs.python.org/3/library/sqlite3.html#sqlite3.Connection.row_factory"
   ]
  },
  {
   "cell_type": "markdown",
   "metadata": {
    "slideshow": {
     "slide_type": "subslide"
    }
   },
   "source": [
    "Możemy też skorzystać ze \"skrótu\" - odpalić `execute` od razu na `Connection`, bez tworzenia wprost obiektu `Cursora`\n",
    "\n",
    "```python\n",
    "@app.route('/films')\n",
    "def films_list():\n",
    "    db = get_db()\n",
    "    data = db.execute('SELECT title FROM film').fetchall()\n",
    "    return render_template('films.html', films=data)\n",
    "```"
   ]
  },
  {
   "cell_type": "markdown",
   "metadata": {
    "slideshow": {
     "slide_type": "slide"
    }
   },
   "source": [
    "# SELECT ... WHERE\n",
    "\n",
    "Filtrowanie :\n",
    "```sql\n",
    "SELECT {lista_pól} FROM {nazwa_tabeli} WHERE {warunek};\n",
    "```\n",
    "\n",
    "np.\n",
    "\n",
    "```sql\n",
    "SELECT first_name, last_name FROM actor WHERE id = 1;\n",
    "```\n",
    "\n",
    "więcej: http://www.sqlitetutorial.net/sqlite-where/"
   ]
  },
  {
   "cell_type": "markdown",
   "metadata": {
    "slideshow": {
     "slide_type": "subslide"
    }
   },
   "source": [
    "## Przykład 2\n",
    "Stworzyć widok listy tytułów filmów `/films/<int:film_id>`, z wykorzystaniem szablonu:\n",
    "```html\n",
    "<!DOCTYPE html>\n",
    "<html lang=\"en\">\n",
    "<head>\n",
    "    <meta charset=\"UTF-8\">\n",
    "    <title>Films</title>\n",
    "</head>\n",
    "<body>\n",
    "    <h1>{{ film['title'] }}</h1>\n",
    "    <h2>Rok produkcji: {{ film['release_year'] }}</h2>\n",
    "    <h3>Opis: {{ film['description'] }}</h3>\n",
    "</body>\n",
    "</html>\n",
    "```"
   ]
  },
  {
   "cell_type": "code",
   "execution_count": null,
   "metadata": {
    "slideshow": {
     "slide_type": "subslide"
    }
   },
   "outputs": [],
   "source": [
    "@app.route('/films/<int:film_id>')\n",
    "def single_film(film_id):\n",
    "    db = get_db()\n",
    "    data = db.execute(\n",
    "        'SELECT title, release_year, description FROM film WHERE film_id = ?',\n",
    "        (film_id,)).fetchone()\n",
    "    return render_template('single_film.html', film=data)"
   ]
  },
  {
   "cell_type": "markdown",
   "metadata": {
    "slideshow": {
     "slide_type": "subslide"
    }
   },
   "source": [
    "# Wstawianie zmiennych do zapytania\n",
    "- znaki zapytania to placeholdery, pod które są podstawiane wartości z tupli przekazanej jako drugi argument\n",
    "- `?` placeholder \"pozycyjny\" - pod kolejne znaki zapytania podstawiane są kolejne wartości z tupli\n",
    "- `:nazwa` to \"keyword\" placeholder, jako drugi argument to `execute` przekazujemy słownik; dane są podstawiane na podstawie kluczy ze słownika\n",
    "\n",
    "```python\n",
    "@app.route('/films/<int:film_id>')\n",
    "def single_film(film_id):\n",
    "    db = get_db()\n",
    "    data = db.execute(\n",
    "        'SELECT title, release_year, description FROM film WHERE film_id = :film_id',\n",
    "        {'film_id': film_id}).fetchone()\n",
    "    return render_template('single_film.html', film=data)\n",
    "```"
   ]
  },
  {
   "cell_type": "markdown",
   "metadata": {
    "slideshow": {
     "slide_type": "slide"
    }
   },
   "source": [
    "# JOIN\n",
    "Łączenie tabel ze sobą :\n",
    "```sql\n",
    "SELECT {lista_pól} FROM {nazwa_tabeli}\n",
    "JOIN {nazwa_innej_tabeli} ON {warunek_joina}\n",
    "(opcjonalnie) WHERE {warunek};\n",
    "```\n",
    "\n",
    "np.\n",
    "\n",
    "```sql\n",
    "SELECT actor.last_name, film.title FROM actor\n",
    "JOIN film_actor ON actor.actor_id = film_actor.actor_id\n",
    "JOIN film ON film_actor.film_id = film.film_id;\n",
    "```\n",
    "\n",
    "Istnieją różne typy JOINów: https://stackoverflow.com/questions/17946221/sql-join-and-different-types-of-joins"
   ]
  },
  {
   "cell_type": "markdown",
   "metadata": {
    "slideshow": {
     "slide_type": "subslide"
    }
   },
   "source": [
    "## Przykład 3\n",
    "Dodaj widok listy filmów rozszerzony o kategorię - `/films_with_category`. Szablon:\n",
    "```html\n",
    "<!DOCTYPE html>\n",
    "<html lang=\"en\">\n",
    "<head>\n",
    "    <meta charset=\"UTF-8\">\n",
    "    <title>Films</title>\n",
    "</head>\n",
    "<body>\n",
    "  <ul>\n",
    "      Nazwa, Kategoria\n",
    "  {% for film in films %}\n",
    "      <li>{{ film['title'] }} {{ film['name'] }}</li>\n",
    "  {% endfor %}\n",
    "  </ul>\n",
    "</body>\n",
    "</html>\n",
    "```"
   ]
  },
  {
   "cell_type": "code",
   "execution_count": null,
   "metadata": {
    "slideshow": {
     "slide_type": "subslide"
    }
   },
   "outputs": [],
   "source": [
    "@app.route('/films_with_category')\n",
    "def films_with_category_list():\n",
    "    db = get_db()\n",
    "    data = db.execute('''\n",
    "    SELECT title, name from film\n",
    "    JOIN film_category ON film.film_id = film_category.film_id\n",
    "    JOIN category ON film_category.category_id = category.category_id;\n",
    "    ''').fetchall()\n",
    "    return render_template('films_with_category.html', films=data)"
   ]
  },
  {
   "cell_type": "markdown",
   "metadata": {
    "slideshow": {
     "slide_type": "slide"
    }
   },
   "source": [
    "# LIMIT, OFFSET, ORDER BY \n",
    "Pobranie rekordów w określonej kolejności\n",
    "```sql\n",
    "SELECT {lista_pól} FROM {nazwa_tabeli} ORDER BY {nazwa_pola};\n",
    "```\n",
    "Np.\n",
    "\n",
    "```sql\n",
    "SELECT * FROM actor ORDER BY last_name;\n",
    "```\n",
    "Pobranie ograniczonej liczby rekordów\n",
    "```sql\n",
    "SELECT {lista_pól} FROM {nazwa_tabeli} LIMIT {liczba_rekordów};\n",
    "```\n",
    "Np.\n",
    "```sql\n",
    "SELECT * FROM actor LIMIT 10;\n",
    "```\n",
    "Pobranie ograniczonej liczby rekordów z pominięciem pierwszych\n",
    "```sql\n",
    "SELECT {lista_pól} FROM {nazwa_tabeli} LIMIT {liczba_rekordów} OFFSET {liczba_pominiętych_rekordów};\n",
    "```\n",
    "Np.\n",
    "```sql\n",
    "SELECT * FROM actor LIMIT 10 OFFSET 20;\n",
    "```\n",
    "\n",
    "http://www.sqlitetutorial.net/sqlite-limit/"
   ]
  },
  {
   "cell_type": "markdown",
   "metadata": {
    "slideshow": {
     "slide_type": "subslide"
    }
   },
   "source": [
    "## Przykład 4\n",
    "Dodaj widok listy filmów z kategorią, w którym filmy posortowane są po nazwie kategorii - `/films_with_category_order`.\n",
    "\n",
    "Szablon taki sam jak w __Przykładzie 3__"
   ]
  },
  {
   "cell_type": "code",
   "execution_count": null,
   "metadata": {
    "slideshow": {
     "slide_type": "subslide"
    }
   },
   "outputs": [],
   "source": [
    "@app.route('/films_with_category_order')\n",
    "def films_with_category_order_list():\n",
    "    db = get_db()\n",
    "    data = db.execute('''\n",
    "    SELECT title, name from film\n",
    "    JOIN film_category ON film.film_id = film_category.film_id\n",
    "    JOIN category ON film_category.category_id = category.category_id\n",
    "    order by category.name;\n",
    "    ''').fetchall()\n",
    "    return render_template('films_with_category.html', films=data)"
   ]
  },
  {
   "cell_type": "markdown",
   "metadata": {
    "slideshow": {
     "slide_type": "slide"
    }
   },
   "source": [
    "# INSERT\n",
    "\n",
    "Wstawienie wiersza do tabeli\n",
    "```sql\n",
    "INSERT INTO {nazwa_tabeli} ({lista_pól) VALUES ({lista_wartości});\n",
    "```"
   ]
  },
  {
   "cell_type": "markdown",
   "metadata": {
    "slideshow": {
     "slide_type": "subslide"
    }
   },
   "source": [
    "## Przykład 5\n",
    "Stwórz widok dodawania nowego aktora `/actors/add` oraz widok listy aktorów `/actors`.\n",
    "\n",
    "Wykorzystaj szablony:\n",
    "```html\n",
    "<!DOCTYPE html>\n",
    "<html lang=\"en\">\n",
    "<head>\n",
    "  <meta charset=\"UTF-8\">\n",
    "  <title>Aktorzy</title>\n",
    "</head>\n",
    "<body>\n",
    "  <ul>\n",
    "    Imię i nazwisko\n",
    "    {% for actor in actors %}\n",
    "      <li>{{ actor['first_name'] + ' ' + actor['last_name'] }}</li>\n",
    "    {% endfor %}\n",
    "  </ul>\n",
    "</body>\n",
    "</html>\n",
    "```\n",
    "\n",
    "```html\n",
    "<!DOCTYPE html>\n",
    "<html lang=\"en\">\n",
    "<head>\n",
    "    <meta charset=\"UTF-8\">\n",
    "    <title>Dodaj aktora</title>\n",
    "</head>\n",
    "<body>\n",
    "<form action=\"/actors/add\", method=\"post\">\n",
    "  Imię:<br>\n",
    "  <input type=\"text\" name=\"first_name\"><br>\n",
    "  Nazwisko:<br>\n",
    "  <input type=\"text\" name=\"last_name\"><br><br>\n",
    "  <input type=\"submit\" value=\"Dodaj\">\n",
    "</form>\n",
    "</body>\n",
    "</html>\n",
    "```"
   ]
  },
  {
   "cell_type": "markdown",
   "metadata": {
    "slideshow": {
     "slide_type": "subslide"
    }
   },
   "source": [
    "# CSRF\n",
    "- Uwaga! Nasz formularz nie jest zabezpieczony zgodnie z najlepszymi praktykami\n",
    "- Korzystając z HTML-owych formularzy powinniśmy zabezpieczać się przed atakiem CSRF https://www.owasp.org/index.php/Cross-Site_Request_Forgery_(CSRF)\n",
    "### Jak to robić we Flasku?\n",
    "- Pisząc to samemu: http://flask.pocoo.org/snippets/3/\n",
    "- Lub najlepiej skorzystać z gotowego rozwiązania: http://flask-wtf.readthedocs.io/en/stable/csrf.html"
   ]
  },
  {
   "cell_type": "code",
   "execution_count": null,
   "metadata": {
    "slideshow": {
     "slide_type": "subslide"
    }
   },
   "outputs": [],
   "source": [
    "@app.route('/actors/add', methods=['GET', 'POST'])\n",
    "def add_actor_version_1():\n",
    "    if request.method == 'POST':\n",
    "        first_name = request.form['first_name']\n",
    "        last_name = request.form['last_name']\n",
    "        db = get_db()\n",
    "        db.executescript(\n",
    "            'INSERT INTO actor (first_name, last_name) VALUES (\"{}\", \"{}\")'\n",
    "            .format(first_name, last_name)\n",
    "        )\n",
    "        db.commit()\n",
    "        return redirect(url_for('actors_list'))\n",
    "    else:\n",
    "        return render_template('add_actor.html')"
   ]
  },
  {
   "cell_type": "markdown",
   "metadata": {
    "slideshow": {
     "slide_type": "fragment"
    }
   },
   "source": [
    "## Co z tym kodem jest nie tak?"
   ]
  },
  {
   "cell_type": "markdown",
   "metadata": {
    "slideshow": {
     "slide_type": "subslide"
    }
   },
   "source": [
    "# SQL Injection\n",
    "\n",
    "![xkcd SQL Injection comic](https://imgs.xkcd.com/comics/exploits_of_a_mom.png )\n",
    "\n",
    "Źródło: https://imgs.xkcd.com/comics/exploits_of_a_mom.png\n",
    "\n",
    "https://xkcd.com/327/"
   ]
  },
  {
   "cell_type": "code",
   "execution_count": null,
   "metadata": {
    "slideshow": {
     "slide_type": "subslide"
    }
   },
   "outputs": [],
   "source": [
    "@app.route('/actors/add', methods=['GET', 'POST'])\n",
    "def add_actor_version_2():\n",
    "    if request.method == 'POST':\n",
    "        first_name = request.form['first_name']\n",
    "        last_name = request.form['last_name']\n",
    "        db = get_db()\n",
    "        db.execute(\n",
    "            'INSERT INTO actor (first_name, last_name) VALUES (?, ?)',\n",
    "            (first_name, last_name)\n",
    "        )\n",
    "        db.commit()\n",
    "        return redirect(url_for('actors_list'))\n",
    "    else:\n",
    "        return render_template('add_actor.html')"
   ]
  },
  {
   "cell_type": "markdown",
   "metadata": {
    "slideshow": {
     "slide_type": "slide"
    }
   },
   "source": [
    "# UPDATE\n",
    "Aktualizacja wszystkich wierszy z tabeli\n",
    "```sql\n",
    "UPDATE {nazwa_tabeli} SET {nazwa_pola} = {wartość_pola}; \n",
    "```\n",
    "\n",
    "Aktualizacja wybranych wierszy\n",
    "```sql\n",
    "UPDATE {nazwa_tabeli} SET {nazwa_pola} = {wartość_pola} WHERE {warunek}\n",
    "```"
   ]
  },
  {
   "cell_type": "markdown",
   "metadata": {
    "slideshow": {
     "slide_type": "subslide"
    }
   },
   "source": [
    "## Przykład 6\n",
    "Dodaj widok edycji aktora `/actors/edit/<int:actor_id>`. Szablon:\n",
    "\n",
    "```html\n",
    "<!DOCTYPE html>\n",
    "<html lang=\"en\">\n",
    "<head>\n",
    "    <meta charset=\"UTF-8\">\n",
    "    <title>Dodaj aktora</title>\n",
    "</head>\n",
    "<body>\n",
    "<form action=\"/actors/add\", method=\"post\">\n",
    "  Imię:<br>\n",
    "  <input type=\"text\" name=\"first_name\"><br>\n",
    "  Nazwisko:<br>\n",
    "  <input type=\"text\" name=\"last_name\"><br><br>\n",
    "  <input type=\"submit\" value=\"Dodaj\">\n",
    "</form>\n",
    "</body>\n",
    "</html>\n",
    "```"
   ]
  },
  {
   "cell_type": "code",
   "execution_count": null,
   "metadata": {
    "slideshow": {
     "slide_type": "subslide"
    }
   },
   "outputs": [],
   "source": [
    "@app.route('/actors/edit/<int:actor_id>', methods=['GET', 'POST'])\n",
    "def edit_actor(actor_id):\n",
    "    if request.method == 'POST':\n",
    "        first_name = request.form['first_name']\n",
    "        last_name = request.form['last_name']\n",
    "        db = get_db()\n",
    "        db.execute(\n",
    "            'UPDATE actor SET first_name = ?, last_name = ? WHERE actor_id = ?',\n",
    "            (first_name, last_name, actor_id)\n",
    "        )\n",
    "        db.commit()\n",
    "        return redirect(url_for('actors_list'))\n",
    "    else:\n",
    "        db = get_db()\n",
    "        actor = db.execute(\n",
    "            'SELECT first_name, last_name from actor WHERE actor_id = ?',\n",
    "            (actor_id,)).fetchone()\n",
    "        return render_template('edit_actor.html', actor=actor, actor_id=actor_id)"
   ]
  },
  {
   "cell_type": "markdown",
   "metadata": {
    "slideshow": {
     "slide_type": "slide"
    }
   },
   "source": [
    "# DELETE\n",
    "Usunięcie wszystkiego z tabeli\n",
    "```sql\n",
    "DELETE FROM {nazwa_tabeli};\n",
    "```\n",
    "\n",
    "Usunięcie wybranych wierszy\n",
    "```sql\n",
    "DELETE FROM {nazwa_tabeli} WHERE {warunek};\n",
    "```"
   ]
  },
  {
   "cell_type": "markdown",
   "metadata": {
    "slideshow": {
     "slide_type": "subslide"
    }
   },
   "source": [
    "## Przykład 7\n",
    "Dodaj możliwość usunięcia wybranego aktora `/actors/delete/<int:actor_id`. Szablon: \n",
    "\n",
    "```html\n",
    "<!DOCTYPE html>\n",
    "<html lang=\"en\">\n",
    "<head>\n",
    "    <meta charset=\"UTF-8\">\n",
    "    <title>Usuń aktora</title>\n",
    "</head>\n",
    "<body>\n",
    "  Imię: {{ actor['first_name'] }}<br>\n",
    "  Nazwisko: {{ actor['last_name'] }}<br>\n",
    "  \n",
    "<form action=\"/actors/delete/{{ actor_id }}\" method=\"post\">\n",
    "    <input type=\"submit\" value=\"Usuń\">\n",
    "</form>\n",
    "</body>\n",
    "</html>\n",
    "```"
   ]
  },
  {
   "cell_type": "code",
   "execution_count": null,
   "metadata": {
    "slideshow": {
     "slide_type": "subslide"
    }
   },
   "outputs": [],
   "source": [
    "@app.route('/actors/delete/<int:actor_id>', methods=['GET', 'POST'])\n",
    "def delete_actor(actor_id):\n",
    "    if request.method == 'POST':\n",
    "        db = get_db()\n",
    "        db.execute('DELETE FROM actor WHERE actor_id = ?', (actor_id,))\n",
    "        db.commit()\n",
    "        return redirect(url_for('actors_list'))\n",
    "    else:\n",
    "        db = get_db()\n",
    "        actor = db.execute(\n",
    "            'SELECT first_name, last_name from actor WHERE actor_id = ?',\n",
    "            (actor_id,)).fetchone()\n",
    "        return render_template('delete_actor.html', actor=actor, actor_id=actor_id)"
   ]
  },
  {
   "cell_type": "markdown",
   "metadata": {
    "slideshow": {
     "slide_type": "slide"
    }
   },
   "source": [
    "# Funkcje agregujące\n",
    "- MIN\n",
    "- MAX\n",
    "- SUM\n",
    "- AVG\n",
    "- COUNT\n",
    "- COUNT(*)\n",
    "\n",
    "Uruchomienie funkcji agregującej dla wybranej kolumny\n",
    "```sql\n",
    "SELECT {funkcja_agregująca}({kolumna}) FROM {tabela};\n",
    "```\n",
    "Np.\n",
    "```sql\n",
    "SELECT MIN(actor_id) FROM actor;\n",
    "```\n",
    "\n",
    "Zliczenie wszystkich wierszy w tabeli\n",
    "```sql\n",
    "SELECT COUNT(*) FROM {tabela};\n",
    "```\n",
    "Np.\n",
    "```sql\n",
    "SELECT COUNT(*) FROM actor;\n",
    "```"
   ]
  },
  {
   "cell_type": "markdown",
   "metadata": {
    "slideshow": {
     "slide_type": "subslide"
    }
   },
   "source": [
    "## Przykład 8\n",
    "Dodaj podsumowanie liczby aktorów na widoku listy aktorów. Szablon: \n",
    "\n",
    "```html\n",
    "<!DOCTYPE html>\n",
    "<html lang=\"en\">\n",
    "<head>\n",
    "  <meta charset=\"UTF-8\">\n",
    "  <title>Aktorzy</title>\n",
    "</head>\n",
    "<body>\n",
    "  LICZBA AKTORÓW: {{ count }}\n",
    "  <ul>\n",
    "    Imię i nazwisko\n",
    "    {% for actor in actors %}\n",
    "      <li>{{ actor['first_name'] + ' ' + actor['last_name'] }}</li>\n",
    "    {% endfor %}\n",
    "  </ul>\n",
    "</body>\n",
    "</html>\n",
    "```"
   ]
  },
  {
   "cell_type": "code",
   "execution_count": null,
   "metadata": {
    "slideshow": {
     "slide_type": "subslide"
    }
   },
   "outputs": [],
   "source": [
    "@app.route('/actors_count')\n",
    "def actors_list_with_count():\n",
    "    db = get_db()\n",
    "    data = db.execute('SELECT first_name, last_name FROM actor ORDER BY last_update DESC').fetchall()\n",
    "    count = db.execute('SELECT COUNT(*) FROM actor').fetchone()\n",
    "    return render_template('actors_count.html', actors=data, count=count[0])"
   ]
  },
  {
   "cell_type": "markdown",
   "metadata": {
    "slideshow": {
     "slide_type": "subslide"
    }
   },
   "source": [
    "# Porównanie wydajności SQL-owego AVG z obliczeniami w Pythonie"
   ]
  },
  {
   "cell_type": "code",
   "execution_count": null,
   "metadata": {
    "slideshow": {
     "slide_type": "fragment"
    }
   },
   "outputs": [],
   "source": [
    "import timeit\n",
    "\n",
    "result_sql = timeit.timeit(\n",
    "    \"c.execute('SELECT AVG(value) FROM test_table').fetchone()\",\n",
    "    setup=\"import sqlite3;conn = sqlite3.connect('test_single_table.db');c = conn.cursor();\",\n",
    "    number=1\n",
    ")\n",
    "print(result_sql)\n",
    "\n",
    "result_python = timeit.timeit(\n",
    "    \"result = c.execute('SELECT value FROM test_table').fetchall(); l = [r[0] for r in result]; sum(l) / len(l)\",\n",
    "    setup=\"import sqlite3;conn = sqlite3.connect('test_single_table.db');c = conn.cursor();\",\n",
    "    number=1\n",
    ")\n",
    "print(result_python)"
   ]
  },
  {
   "cell_type": "markdown",
   "metadata": {
    "slideshow": {
     "slide_type": "fragment"
    }
   },
   "source": [
    "Wynik:\n",
    "```\n",
    "0.073508342000423\n",
    "0.7799752800056012\n",
    "```"
   ]
  },
  {
   "cell_type": "markdown",
   "metadata": {
    "slideshow": {
     "slide_type": "slide"
    }
   },
   "source": [
    "# Deploy na Heroku\n",
    "- __SQLite__ na __Heroku__? Nie jest to najlepszy pomysł https://devcenter.heroku.com/articles/sqlite3\n",
    "- Wystarczy wypushować dodatkowo plik z bazą danych na Heroku\n",
    "- Problem: Wprowadzane w nim zmiany będą wymazywane, przynajmniej raz na 24h - po każdym deployu, restarcie i co około 24h z powodu tego , jak Heroku zarządza swoimi `dynos`\n",
    "- Co z tym robimy? Na tych zajęciach nic\n",
    "- Dobre rozwiązanie? Korzystanie z __Heroku Postgres__ https://elements.heroku.com/addons/heroku-postgresql zamiast z __sqlite__"
   ]
  },
  {
   "cell_type": "markdown",
   "metadata": {
    "slideshow": {
     "slide_type": "slide"
    }
   },
   "source": [
    "# CREATE TABLE\n",
    "Tworzenie tabeli\n",
    "```sql\n",
    "CREATE TABLE {nazwa_tabeli} {lista_pól}\n",
    "```\n",
    "\n",
    "Np.\n",
    "\n",
    "```sql\n",
    "CREATE TABLE actor (\n",
    "  actor_id numeric NOT NULL ,\n",
    "  first_name VARCHAR(45) NOT NULL,\n",
    "  last_name VARCHAR(45) NOT NULL,\n",
    "  last_update TIMESTAMP NOT NULL,\n",
    "  PRIMARY KEY  (actor_id)\n",
    ");\n",
    "```\n",
    "\n",
    "https://www.sqlite.org/lang_createtable.html"
   ]
  },
  {
   "cell_type": "markdown",
   "metadata": {
    "slideshow": {
     "slide_type": "slide"
    }
   },
   "source": [
    "# CREATE INDEX\n",
    "Tworzenie indeksu\n",
    "```sql\n",
    "CREATE  INDEX {nazwa_indeksu} ON {nazwa_tabeli}({nazwa_pola});\n",
    "```\n",
    "Np.\n",
    "```sql\n",
    "CREATE  INDEX idx_actor_last_name ON actor(last_name);\n",
    "```\n",
    "\n",
    "https://www.sqlite.org/lang_createindex.html"
   ]
  },
  {
   "cell_type": "markdown",
   "metadata": {
    "slideshow": {
     "slide_type": "slide"
    }
   },
   "source": [
    "# ALTER TABLE\n",
    "\n",
    "Wprowadzenie zmian w istniejącej tabeli. Np. dodawanie nowej kolumny.\n",
    "\n",
    "Usunięcie tabeli\n",
    "```sql\n",
    "ALTER TABLE {nazwa_tabeli} {zmiana};\n",
    "```\n",
    "np.\n",
    "```sql\n",
    "ALTER TABLE actor ADD COLUMN middle_name VARCHAR(45);\n",
    "```\n",
    "\n",
    "https://www.sqlite.org/lang_altertable.html"
   ]
  },
  {
   "cell_type": "markdown",
   "metadata": {
    "slideshow": {
     "slide_type": "slide"
    }
   },
   "source": [
    "# DROP TABLE\n",
    "\n",
    "Usunięcie tabeli\n",
    "```sql\n",
    "DROP TABLE {nazwa_tabeli};\n",
    "```\n",
    "\n",
    "np.\n",
    "```sql\n",
    "DROP TABLE actor;\n",
    "```\n",
    "\n",
    "https://www.sqlite.org/lang_droptable.html"
   ]
  },
  {
   "cell_type": "markdown",
   "metadata": {
    "slideshow": {
     "slide_type": "slide"
    }
   },
   "source": [
    "# KONIEC"
   ]
  }
 ],
 "metadata": {
  "celltoolbar": "Slideshow",
  "kernelspec": {
   "display_name": "Python 3",
   "language": "python",
   "name": "python3"
  },
  "language_info": {
   "codemirror_mode": {
    "name": "ipython",
    "version": 3
   },
   "file_extension": ".py",
   "mimetype": "text/x-python",
   "name": "python",
   "nbconvert_exporter": "python",
   "pygments_lexer": "ipython3",
   "version": "3.6.1"
  }
 },
 "nbformat": 4,
 "nbformat_minor": 2
}
