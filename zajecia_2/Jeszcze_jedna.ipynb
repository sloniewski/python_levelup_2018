{
 "cells": [
  {
   "cell_type": "markdown",
   "metadata": {
    "slideshow": {
     "slide_type": "slide"
    }
   },
   "source": [
    "# Jeszcze jedna\n",
    "## Flask ciąg dalszy\n",
    "\n",
    "### Marcin Jaroszewski\n",
    "### 15.III.2018, Python Level UP"
   ]
  },
  {
   "cell_type": "markdown",
   "metadata": {
    "slideshow": {
     "slide_type": "subslide"
    }
   },
   "source": [
    "![Logo kursu Python Level Up](https://raw.githubusercontent.com/daftcode/python_levelup_2018/master/logo.png)"
   ]
  },
  {
   "cell_type": "markdown",
   "metadata": {
    "slideshow": {
     "slide_type": "subslide"
    }
   },
   "source": [
    "![Plan zajęć](https://raw.githubusercontent.com/daftcode/python_levelup_2018/master/plan_zajec.png)"
   ]
  },
  {
   "cell_type": "markdown",
   "metadata": {
    "slideshow": {
     "slide_type": "subslide"
    }
   },
   "source": [
    "## Tutoriale flask\n",
    "- https://www.tutorialspoint.com/flask/index.htm\n",
    "- http://flask.pocoo.org/docs/0.12/tutorial/"
   ]
  },
  {
   "cell_type": "markdown",
   "metadata": {
    "slideshow": {
     "slide_type": "slide"
    }
   },
   "source": [
    "# Po co w ogóle są webaplikacje?"
   ]
  },
  {
   "cell_type": "markdown",
   "metadata": {
    "slideshow": {
     "slide_type": "subslide"
    }
   },
   "source": [
    "https://pages.apigee.com/rs/apigee/images/api-design-ebook-2012-03.pdf"
   ]
  },
  {
   "cell_type": "markdown",
   "metadata": {
    "slideshow": {
     "slide_type": "slide"
    }
   },
   "source": [
    "# HTML \"dynamiczny\""
   ]
  },
  {
   "cell_type": "markdown",
   "metadata": {
    "slideshow": {
     "slide_type": "subslide"
    }
   },
   "source": [
    "## Podejście prymitywne/chałupnicze"
   ]
  },
  {
   "cell_type": "markdown",
   "metadata": {
    "slideshow": {
     "slide_type": "subslide"
    }
   },
   "source": [
    "Podstawowa aplikacja flask:\n",
    "```python\n",
    "from flask import Flask, request\n",
    "app = Flask(__name__)\n",
    "\n",
    "@app.route(\"/\")\n",
    "def hello():\n",
    "\treturn 'hello from flask'\n",
    "\n",
    "if __name__ == '__main__':\n",
    "    app.run(debug=True)\n",
    "```"
   ]
  },
  {
   "cell_type": "markdown",
   "metadata": {
    "slideshow": {
     "slide_type": "subslide"
    }
   },
   "source": [
    "### Pobieranie danych z querystring\n",
    "Standardowe zapytanie z przeglądarki to GET.\n",
    "\n",
    "GET z założenia nie przesyła danych do serwera na \"trwałe\" (do tego służy POST).\n",
    "\n",
    "Ale GET ma możliwość przesłania pewnej ilości danych do serwera za pomocą **querystring**.\n",
    "\n",
    "Te dane nie powinny zostać zapisane w serwerze na stałe, ale mogą posłużyć do wygenerowania odpowiedzi."
   ]
  },
  {
   "cell_type": "markdown",
   "metadata": {
    "slideshow": {
     "slide_type": "subslide"
    }
   },
   "source": [
    "```python\n",
    "@app.route(\"/request_query_string_discovery\")\n",
    "def print_request():\n",
    "    print(dir(request))\n",
    "    print('request.args:', request.args)\n",
    "    print('type(request.args):', type(request.args))\n",
    "    print('request.query_string:', request.query_string)\n",
    "    return ''\n",
    "```"
   ]
  },
  {
   "cell_type": "markdown",
   "metadata": {
    "slideshow": {
     "slide_type": "subslide"
    }
   },
   "source": [
    "To co nas interesuje to: `request.args`\n",
    "```python\n",
    "type(request.args): <class 'werkzeug.datastructures.ImmutableMultiDict'>\n",
    "```\n",
    "dokumentacja:\n",
    "1. http://werkzeug.pocoo.org/docs/0.14/datastructures/#werkzeug.datastructures.ImmutableMultiDict\n",
    "2. http://werkzeug.pocoo.org/docs/0.14/datastructures/#werkzeug.datastructures.MultiDict"
   ]
  },
  {
   "cell_type": "markdown",
   "metadata": {
    "slideshow": {
     "slide_type": "subslide"
    }
   },
   "source": [
    "### Proste wstawianie danych od użytkownika w nasz HTML"
   ]
  },
  {
   "cell_type": "markdown",
   "metadata": {
    "slideshow": {
     "slide_type": "subslide"
    }
   },
   "source": [
    "http://127.0.0.1:5000/request_query_string_based_response?ala=ma_kota"
   ]
  },
  {
   "cell_type": "markdown",
   "metadata": {
    "slideshow": {
     "slide_type": "subslide"
    }
   },
   "source": [
    "### Złośliwy użytkownik i znaczniki HTML w inpucie"
   ]
  },
  {
   "cell_type": "markdown",
   "metadata": {
    "slideshow": {
     "slide_type": "subslide"
    }
   },
   "source": [
    "Pierwszy złośliwy url ze wstrzyknięciem html: http://127.0.0.1:5000/request_query_string_based_response?+=%3C%21DOCTYPE+html%3E%3Chtml%3E%3Chead%3E%3Ctitle%3EPage+Title%3C%2Ftitle%3E%3C%2Fhead%3E%3Cbody%3E%3Ch1%3EHACKED%21%21%21%3C%2Fh1%3E%3C%2Fbody%3E%3C%2Fhtml%3E"
   ]
  },
  {
   "cell_type": "markdown",
   "metadata": {
    "slideshow": {
     "slide_type": "subslide"
    }
   },
   "source": [
    "```html\n",
    "<!DOCTYPE html><html><head><title>Page Title</title></head><body><h1>HACKED!!!</h1></body></html>\n",
    "```"
   ]
  },
  {
   "cell_type": "code",
   "execution_count": 1,
   "metadata": {
    "scrolled": true,
    "slideshow": {
     "slide_type": "subslide"
    }
   },
   "outputs": [
    {
     "name": "stdout",
     "output_type": "stream",
     "text": [
      "+=%3C%21DOCTYPE+html%3E%3Chtml%3E%3Chead%3E%3Ctitle%3EPage+Title%3C%2Ftitle%3E%3C%2Fhead%3E%3Cbody%3E%3Ch1%3EHACKED%21%21%21%3C%2Fh1%3E%3C%2Fbody%3E%3C%2Fhtml%3E\n"
     ]
    }
   ],
   "source": [
    "evil_input = '<!DOCTYPE html><html><head><title>Page Title</title></head><body><h1>HACKED!!!</h1></body></html>'\n",
    "import urllib.parse\n",
    "query_string = urllib.parse.urlencode({' ': evil_input})\n",
    "print(query_string)"
   ]
  },
  {
   "cell_type": "markdown",
   "metadata": {
    "slideshow": {
     "slide_type": "subslide"
    }
   },
   "source": [
    "Drugi złośliwy url ze wstrzyknięciem html i javascript: http://127.0.0.1:5000/request_query_string_based_response?+=%3C%21DOCTYPE+html%3E%3Chtml%3E%3Chead%3E%3Ctitle%3EPage+Title%3C%2Ftitle%3E%3C%2Fhead%3E%3Cscript%3Ewindow.location.replace%28%22https%3A%2F%2Fhaveibeenpwned.com%2F%22%29%3B%3C%2Fscript%3E%3Cbody%3E%3C%2Fbody%3E%3C%2Fhtml%3E"
   ]
  },
  {
   "cell_type": "markdown",
   "metadata": {
    "slideshow": {
     "slide_type": "subslide"
    }
   },
   "source": [
    "```html\n",
    "<!DOCTYPE html><html><head><title>Page Title</title></head><script>window.location.replace(\"https://haveibeenpwned.com/\");</script><body></body></html>\n",
    "```"
   ]
  },
  {
   "cell_type": "code",
   "execution_count": 2,
   "metadata": {
    "slideshow": {
     "slide_type": "subslide"
    }
   },
   "outputs": [
    {
     "name": "stdout",
     "output_type": "stream",
     "text": [
      "+=%3C%21DOCTYPE+html%3E%3Chtml%3E%3Chead%3E%3Ctitle%3EPage+Title%3C%2Ftitle%3E%3C%2Fhead%3E%3Cscript%3Ewindow.location.replace%28%22https%3A%2F%2Fhaveibeenpwned.com%2F%22%29%3B%3C%2Fscript%3E%3Cbody%3E%3C%2Fbody%3E%3C%2Fhtml%3E\n"
     ]
    }
   ],
   "source": [
    "more_evil_input = '<!DOCTYPE html><html><head><title>Page Title</title></head><script>window.location.replace(\"https://haveibeenpwned.com/\");</script><body></body></html>'\n",
    "query_string = urllib.parse.urlencode({' ': more_evil_input})\n",
    "print(query_string)"
   ]
  },
  {
   "cell_type": "markdown",
   "metadata": {
    "slideshow": {
     "slide_type": "subslide"
    }
   },
   "source": [
    "Ataków zbliżonych do przedstawionych jest bardzo wiele. Ciężko się zamodzielnie przed nimi bronić. W dodadtku samodzielne składanie html też nie jest takie łatwe. Na szczęście Flask i wiele innych frameworków webowych oferuje nam system templatek."
   ]
  },
  {
   "cell_type": "markdown",
   "metadata": {
    "slideshow": {
     "slide_type": "slide"
    }
   },
   "source": [
    "# Templatki"
   ]
  },
  {
   "cell_type": "markdown",
   "metadata": {
    "slideshow": {
     "slide_type": "subslide"
    }
   },
   "source": [
    "## Jinja2"
   ]
  },
  {
   "cell_type": "markdown",
   "metadata": {
    "slideshow": {
     "slide_type": "subslide"
    }
   },
   "source": [
    "Dokumentacja: http://jinja.pocoo.org/docs/2.10/"
   ]
  },
  {
   "cell_type": "markdown",
   "metadata": {
    "slideshow": {
     "slide_type": "subslide"
    }
   },
   "source": [
    "```html\n",
    "<!DOCTYPE html>\n",
    "<html lang=\"en\">\n",
    "<head>\n",
    "    <title>Wyrenderowane z templatki</title>\n",
    "</head>\n",
    "<body>\n",
    "    {% for key, value in query_string_data|dictsort %}\n",
    "        <h1>{{ key }}: {{ value }}</h1>\n",
    "    {% endfor %}\n",
    "</body>\n",
    "</html>\n",
    "```"
   ]
  },
  {
   "cell_type": "markdown",
   "metadata": {
    "slideshow": {
     "slide_type": "subslide"
    }
   },
   "source": [
    "Templatki we Flask same robią autoescape danych, które mogą popsuć stronę."
   ]
  },
  {
   "cell_type": "markdown",
   "metadata": {
    "slideshow": {
     "slide_type": "slide"
    }
   },
   "source": [
    "# Routing"
   ]
  },
  {
   "cell_type": "markdown",
   "metadata": {
    "slideshow": {
     "slide_type": "subslide"
    }
   },
   "source": [
    "### Pobieranie danych z url\n",
    "\n",
    "```python\n",
    "@app.route(\"/simple_path_tmpl/<sample_variable>\")\n",
    "def simple_path_tmpl(sample_variable):\n",
    "    print(sample_variable)\n",
    "    print(type(sample_variable))\n",
    "    print(app.url_map)\n",
    "    return render_template(\n",
    "        'route_description_tmpl.html',\n",
    "        value=sample_variable,\n",
    "        my_type=type(sample_variable),\n",
    "        my_id=id(sample_variable),\n",
    "    )\n",
    "```"
   ]
  },
  {
   "cell_type": "markdown",
   "metadata": {
    "slideshow": {
     "slide_type": "subslide"
    }
   },
   "source": [
    "### Pobieranie danych z url z automatyczną konwersją\n",
    "```python\n",
    "@app.route(\"/simple_path_int/<int:sample_variable>\")\n",
    "def simple_path_int(sample_variable):\n",
    "    print(sample_variable)\n",
    "    print(type(sample_variable))\n",
    "    print(app.url_map)\n",
    "    return render_template(\n",
    "        'route_description_tmpl.html',\n",
    "        value=sample_variable,\n",
    "        my_type=type(sample_variable),\n",
    "        my_id=id(sample_variable),\n",
    "    )\n",
    "```"
   ]
  },
  {
   "cell_type": "markdown",
   "metadata": {
    "slideshow": {
     "slide_type": "subslide"
    }
   },
   "source": [
    "### Obsługa dowolnej ścieżki\n",
    "```python\n",
    "@app.route(\"/path/<path:my_path>\")\n",
    "def path_all(my_path):\n",
    "    print(my_path)\n",
    "    print(type(my_path))\n",
    "    print(app.url_map)\n",
    "    return render_template(\n",
    "        'route_description_tmpl.html',\n",
    "        value=my_path,\n",
    "        my_type=type(my_path),\n",
    "        my_id=id(my_path),\n",
    "    )\n",
    "```"
   ]
  },
  {
   "cell_type": "markdown",
   "metadata": {
    "slideshow": {
     "slide_type": "slide"
    }
   },
   "source": [
    "# Obsługa różnych metod"
   ]
  },
  {
   "cell_type": "markdown",
   "metadata": {
    "slideshow": {
     "slide_type": "subslide"
    }
   },
   "source": [
    "Metody HTTP służą do tego, żeby dla tego samego url zachowanie/odpowiedź serwera były inne. W miarę możliwości zgodne ze znaczeniem użytej metody."
   ]
  },
  {
   "cell_type": "markdown",
   "metadata": {
    "slideshow": {
     "slide_type": "subslide"
    }
   },
   "source": [
    "## GET - pobieranie zasobu\n",
    "```python\n",
    "@app.route(\"/person/<person_name>\")\n",
    "def person_info(person_name):\n",
    "    global persons\n",
    "    # do samodzielnego zastanowienia się, czy to bezpieczne\n",
    "    person = persons.get(person_name)\n",
    "    return render_template(\n",
    "        'person_tmpl.html',\n",
    "        name=person.get('name'),\n",
    "        surname=person.get('surname'),\n",
    "        occupation=person.get('occupation'),\n",
    "    )\n",
    "```"
   ]
  },
  {
   "cell_type": "markdown",
   "metadata": {
    "slideshow": {
     "slide_type": "subslide"
    }
   },
   "source": [
    "## Postman i inne podobne\n",
    "Do wysyłania requestów innych niż GET i lepszej kontroli na requestami.\n",
    "Można też napisać sobie skrypty w python (np z użyciem biblioteki requests).\n",
    "- https://www.getpostman.com/"
   ]
  },
  {
   "cell_type": "markdown",
   "metadata": {
    "slideshow": {
     "slide_type": "subslide"
    }
   },
   "source": [
    "## POST - dodawanie zasobu\n",
    "```python\n",
    "@app.route(\"/person/<person_name>\", methods=['GET', 'POST'])\n",
    "def person_info(person_name):\n",
    "\tif request.method == 'GET':\n",
    "\t\treturn get_person_info(person_name)\n",
    "\telif request.method == 'POST':\n",
    "\t\treturn post_person_info(person_name)\n",
    "```"
   ]
  },
  {
   "cell_type": "markdown",
   "metadata": {
    "slideshow": {
     "slide_type": "subslide"
    }
   },
   "source": [
    "```python\n",
    "def post_person_info(person_name):\n",
    "\tdata = request.get_json()\n",
    "\tnew_person = {\n",
    "\t\t'name': data.get('name'),\n",
    "\t\t'surname': data.get('surname'),\n",
    "\t\t'occupation': data.get('occupation')\n",
    "\t}\n",
    "\tglobal persons\n",
    "\tpersons[data.get('name')] = new_person\n",
    "\treturn 'OK'\n",
    "```"
   ]
  },
  {
   "cell_type": "markdown",
   "metadata": {
    "slideshow": {
     "slide_type": "slide"
    }
   },
   "source": [
    "# Cookies"
   ]
  },
  {
   "cell_type": "markdown",
   "metadata": {
    "slideshow": {
     "slide_type": "slide"
    }
   },
   "source": [
    "## Co to są ciasteczka"
   ]
  },
  {
   "cell_type": "markdown",
   "metadata": {
    "slideshow": {
     "slide_type": "slide"
    }
   },
   "source": [
    "## Ustawianie i odczyt ciasteczka"
   ]
  },
  {
   "cell_type": "markdown",
   "metadata": {
    "slideshow": {
     "slide_type": "subslide"
    }
   },
   "source": [
    "```python\n",
    "@app.route(\"/my_cookies\")\n",
    "def cookies():\n",
    "\tcookie_secret = request.cookies.get('cookie_secret')\n",
    "\tresp = make_response(\n",
    "\t\trender_template(\n",
    "\t\t\t'cookies_tmpl.html', cookie_secret=cookie_secret\n",
    "\t\t)\n",
    "\t)\n",
    "\tresp.set_cookie('cookie_secret', 'I am cookie')\n",
    "\treturn resp\n",
    "```"
   ]
  },
  {
   "cell_type": "markdown",
   "metadata": {
    "slideshow": {
     "slide_type": "slide"
    }
   },
   "source": [
    "# Bezpieczeństwo"
   ]
  },
  {
   "cell_type": "markdown",
   "metadata": {
    "slideshow": {
     "slide_type": "subslide"
    }
   },
   "source": [
    "Każdy może nam w naszej aplikacji czytać, dodawać, zmieniać, kasować dowolne zasoby. A to raczej niedobrze."
   ]
  },
  {
   "cell_type": "markdown",
   "metadata": {
    "slideshow": {
     "slide_type": "subslide"
    }
   },
   "source": [
    "# BasicAuth"
   ]
  },
  {
   "cell_type": "markdown",
   "metadata": {
    "slideshow": {
     "slide_type": "subslide"
    }
   },
   "source": [
    "## Logowanie przez ciasteczko"
   ]
  }
 ],
 "metadata": {
  "celltoolbar": "Slideshow",
  "kernelspec": {
   "display_name": "Python 3",
   "language": "python",
   "name": "python3"
  },
  "language_info": {
   "codemirror_mode": {
    "name": "ipython",
    "version": 3
   },
   "file_extension": ".py",
   "mimetype": "text/x-python",
   "name": "python",
   "nbconvert_exporter": "python",
   "pygments_lexer": "ipython3",
   "version": "3.6.4"
  }
 },
 "nbformat": 4,
 "nbformat_minor": 2
}
